{
  "nbformat": 4,
  "nbformat_minor": 0,
  "metadata": {
    "colab": {
      "provenance": [],
      "collapsed_sections": [],
      "authorship_tag": "ABX9TyPsNL3GqnGewIY1KZWvsTZk",
      "include_colab_link": true
    },
    "kernelspec": {
      "name": "python3",
      "display_name": "Python 3"
    },
    "language_info": {
      "name": "python"
    }
  },
  "cells": [
    {
      "cell_type": "markdown",
      "metadata": {
        "id": "view-in-github",
        "colab_type": "text"
      },
      "source": [
        "<a href=\"https://colab.research.google.com/github/sanchariguhaniyogi/lead_Classification/blob/main/RandomForest.ipynb\" target=\"_parent\"><img src=\"https://colab.research.google.com/assets/colab-badge.svg\" alt=\"Open In Colab\"/></a>"
      ]
    },
    {
      "cell_type": "code",
      "execution_count": null,
      "metadata": {
        "id": "0wDYLBVost1L"
      },
      "outputs": [],
      "source": [
        "import pandas as pd\n",
        "import numpy as np\n",
        "from sklearn.tree import DecisionTreeClassifier\n",
        "from sklearn.preprocessing import StandardScaler\n",
        "from sklearn.model_selection import train_test_split\n",
        "from sklearn.metrics import log_loss, roc_auc_score, recall_score, precision_score, average_precision_score, f1_score, classification_report, accuracy_score, plot_roc_curve, plot_precision_recall_curve, plot_confusion_matrix"
      ]
    },
    {
      "cell_type": "code",
      "source": [
        "df = pd.read_csv('lead_conv.csv', na_values='?')\n",
        "#df.head()\n",
        "df.columns\n"
      ],
      "metadata": {
        "colab": {
          "base_uri": "https://localhost:8080/"
        },
        "id": "mCy2fZT2wEwE",
        "outputId": "0d990bdb-1a24-4f0b-ba9c-31b4db04c43b"
      },
      "execution_count": null,
      "outputs": [
        {
          "output_type": "execute_result",
          "data": {
            "text/plain": [
              "Index(['Opportunity No.', 'Outcome', 'Product', 'Industry', 'Region',\n",
              "       'Relative Strength in the segment', 'Profit of Customer in Million',\n",
              "       'Sales Value in Million', 'Profit %', 'WSES Proportion in Joint Bid',\n",
              "       'Leads Conversion Class'],\n",
              "      dtype='object')"
            ]
          },
          "metadata": {},
          "execution_count": 17
        }
      ]
    },
    {
      "cell_type": "code",
      "source": [
        "df = df.rename(columns={'Outcome': 'target'})\n",
        "\n",
        "df['target'].value_counts(dropna=False)"
      ],
      "metadata": {
        "colab": {
          "base_uri": "https://localhost:8080/"
        },
        "id": "Q0yFBgdKwHBt",
        "outputId": "f3e0b8fe-36ab-4634-e5db-bb9b401f8bf0"
      },
      "execution_count": null,
      "outputs": [
        {
          "output_type": "execute_result",
          "data": {
            "text/plain": [
              "0    519\n",
              "1    481\n",
              "Name: target, dtype: int64"
            ]
          },
          "metadata": {},
          "execution_count": 18
        }
      ]
    },
    {
      "cell_type": "code",
      "source": [
        "df = pd.get_dummies(df, columns=['Product', 'Industry', 'Region', 'Leads Conversion Class'], drop_first=True)\n",
        "df"
      ],
      "metadata": {
        "colab": {
          "base_uri": "https://localhost:8080/",
          "height": 557
        },
        "id": "c-rzabg4wJj0",
        "outputId": "7fab7c27-296c-4895-fa28-e66b8ee61f01"
      },
      "execution_count": null,
      "outputs": [
        {
          "output_type": "execute_result",
          "data": {
            "text/plain": [
              "     Opportunity No.  target  Relative Strength in the segment  \\\n",
              "0                  1       0                                45   \n",
              "1                  2       1                                56   \n",
              "2                  3       0                                48   \n",
              "3                  4       1                                58   \n",
              "4                  5       1                                49   \n",
              "..               ...     ...                               ...   \n",
              "995              996       1                                46   \n",
              "996              997       0                                67   \n",
              "997              998       0                                42   \n",
              "998              999       1                                32   \n",
              "999             1000       1                                45   \n",
              "\n",
              "     Profit of Customer in Million  Sales Value in Million  Profit %  \\\n",
              "0                             2.11                   10.29        29   \n",
              "1                             0.79                   11.42        46   \n",
              "2                             1.62                    5.63        70   \n",
              "3                             0.09                   10.17        46   \n",
              "4                             1.46                   10.60        32   \n",
              "..                             ...                     ...       ...   \n",
              "995                           0.71                    3.97        42   \n",
              "996                           1.43                    9.31        33   \n",
              "997                           1.75                    8.18        58   \n",
              "998                           0.30                    9.78        56   \n",
              "999                           0.63                    5.97        62   \n",
              "\n",
              "     WSES Proportion in Joint Bid  Product_Finsys  Product_GTMSys  \\\n",
              "0                              66               0               0   \n",
              "1                              50               0               1   \n",
              "2                              50               0               1   \n",
              "3                              56               0               1   \n",
              "4                              54               0               1   \n",
              "..                            ...             ...             ...   \n",
              "995                            72               0               0   \n",
              "996                            65               0               1   \n",
              "997                            68               0               0   \n",
              "998                            55               0               1   \n",
              "999                            45               0               0   \n",
              "\n",
              "     Product_LearnSys  ...  Region_Canada  Region_India  Region_Japan  \\\n",
              "0                   1  ...              0             0             0   \n",
              "1                   0  ...              0             0             0   \n",
              "2                   0  ...              0             0             0   \n",
              "3                   0  ...              0             0             0   \n",
              "4                   0  ...              0             0             0   \n",
              "..                ...  ...            ...           ...           ...   \n",
              "995                 0  ...              0             0             0   \n",
              "996                 0  ...              0             0             0   \n",
              "997                 1  ...              0             0             0   \n",
              "998                 0  ...              0             0             0   \n",
              "999                 1  ...              0             0             0   \n",
              "\n",
              "     Region_Other Europe  Region_Singapore  Region_Spain  Region_UK  \\\n",
              "0                      0                 0             0          0   \n",
              "1                      0                 0             0          1   \n",
              "2                      0                 0             0          1   \n",
              "3                      0                 0             0          1   \n",
              "4                      0                 0             0          1   \n",
              "..                   ...               ...           ...        ...   \n",
              "995                    0                 0             0          1   \n",
              "996                    0                 0             0          1   \n",
              "997                    0                 0             0          1   \n",
              "998                    0                 0             0          1   \n",
              "999                    0                 0             0          0   \n",
              "\n",
              "     Leads Conversion Class_F  Leads Conversion Class_L  \\\n",
              "0                           1                         0   \n",
              "1                           0                         0   \n",
              "2                           1                         0   \n",
              "3                           0                         0   \n",
              "4                           0                         0   \n",
              "..                        ...                       ...   \n",
              "995                         0                         0   \n",
              "996                         0                         1   \n",
              "997                         0                         0   \n",
              "998                         0                         0   \n",
              "999                         0                         0   \n",
              "\n",
              "     Leads Conversion Class_V  \n",
              "0                           0  \n",
              "1                           0  \n",
              "2                           0  \n",
              "3                           0  \n",
              "4                           1  \n",
              "..                        ...  \n",
              "995                         0  \n",
              "996                         0  \n",
              "997                         0  \n",
              "998                         0  \n",
              "999                         1  \n",
              "\n",
              "[1000 rows x 41 columns]"
            ],
            "text/html": [
              "\n",
              "  <div id=\"df-8157ee25-8825-4036-9e64-3b33356f1d40\">\n",
              "    <div class=\"colab-df-container\">\n",
              "      <div>\n",
              "<style scoped>\n",
              "    .dataframe tbody tr th:only-of-type {\n",
              "        vertical-align: middle;\n",
              "    }\n",
              "\n",
              "    .dataframe tbody tr th {\n",
              "        vertical-align: top;\n",
              "    }\n",
              "\n",
              "    .dataframe thead th {\n",
              "        text-align: right;\n",
              "    }\n",
              "</style>\n",
              "<table border=\"1\" class=\"dataframe\">\n",
              "  <thead>\n",
              "    <tr style=\"text-align: right;\">\n",
              "      <th></th>\n",
              "      <th>Opportunity No.</th>\n",
              "      <th>target</th>\n",
              "      <th>Relative Strength in the segment</th>\n",
              "      <th>Profit of Customer in Million</th>\n",
              "      <th>Sales Value in Million</th>\n",
              "      <th>Profit %</th>\n",
              "      <th>WSES Proportion in Joint Bid</th>\n",
              "      <th>Product_Finsys</th>\n",
              "      <th>Product_GTMSys</th>\n",
              "      <th>Product_LearnSys</th>\n",
              "      <th>...</th>\n",
              "      <th>Region_Canada</th>\n",
              "      <th>Region_India</th>\n",
              "      <th>Region_Japan</th>\n",
              "      <th>Region_Other Europe</th>\n",
              "      <th>Region_Singapore</th>\n",
              "      <th>Region_Spain</th>\n",
              "      <th>Region_UK</th>\n",
              "      <th>Leads Conversion Class_F</th>\n",
              "      <th>Leads Conversion Class_L</th>\n",
              "      <th>Leads Conversion Class_V</th>\n",
              "    </tr>\n",
              "  </thead>\n",
              "  <tbody>\n",
              "    <tr>\n",
              "      <th>0</th>\n",
              "      <td>1</td>\n",
              "      <td>0</td>\n",
              "      <td>45</td>\n",
              "      <td>2.11</td>\n",
              "      <td>10.29</td>\n",
              "      <td>29</td>\n",
              "      <td>66</td>\n",
              "      <td>0</td>\n",
              "      <td>0</td>\n",
              "      <td>1</td>\n",
              "      <td>...</td>\n",
              "      <td>0</td>\n",
              "      <td>0</td>\n",
              "      <td>0</td>\n",
              "      <td>0</td>\n",
              "      <td>0</td>\n",
              "      <td>0</td>\n",
              "      <td>0</td>\n",
              "      <td>1</td>\n",
              "      <td>0</td>\n",
              "      <td>0</td>\n",
              "    </tr>\n",
              "    <tr>\n",
              "      <th>1</th>\n",
              "      <td>2</td>\n",
              "      <td>1</td>\n",
              "      <td>56</td>\n",
              "      <td>0.79</td>\n",
              "      <td>11.42</td>\n",
              "      <td>46</td>\n",
              "      <td>50</td>\n",
              "      <td>0</td>\n",
              "      <td>1</td>\n",
              "      <td>0</td>\n",
              "      <td>...</td>\n",
              "      <td>0</td>\n",
              "      <td>0</td>\n",
              "      <td>0</td>\n",
              "      <td>0</td>\n",
              "      <td>0</td>\n",
              "      <td>0</td>\n",
              "      <td>1</td>\n",
              "      <td>0</td>\n",
              "      <td>0</td>\n",
              "      <td>0</td>\n",
              "    </tr>\n",
              "    <tr>\n",
              "      <th>2</th>\n",
              "      <td>3</td>\n",
              "      <td>0</td>\n",
              "      <td>48</td>\n",
              "      <td>1.62</td>\n",
              "      <td>5.63</td>\n",
              "      <td>70</td>\n",
              "      <td>50</td>\n",
              "      <td>0</td>\n",
              "      <td>1</td>\n",
              "      <td>0</td>\n",
              "      <td>...</td>\n",
              "      <td>0</td>\n",
              "      <td>0</td>\n",
              "      <td>0</td>\n",
              "      <td>0</td>\n",
              "      <td>0</td>\n",
              "      <td>0</td>\n",
              "      <td>1</td>\n",
              "      <td>1</td>\n",
              "      <td>0</td>\n",
              "      <td>0</td>\n",
              "    </tr>\n",
              "    <tr>\n",
              "      <th>3</th>\n",
              "      <td>4</td>\n",
              "      <td>1</td>\n",
              "      <td>58</td>\n",
              "      <td>0.09</td>\n",
              "      <td>10.17</td>\n",
              "      <td>46</td>\n",
              "      <td>56</td>\n",
              "      <td>0</td>\n",
              "      <td>1</td>\n",
              "      <td>0</td>\n",
              "      <td>...</td>\n",
              "      <td>0</td>\n",
              "      <td>0</td>\n",
              "      <td>0</td>\n",
              "      <td>0</td>\n",
              "      <td>0</td>\n",
              "      <td>0</td>\n",
              "      <td>1</td>\n",
              "      <td>0</td>\n",
              "      <td>0</td>\n",
              "      <td>0</td>\n",
              "    </tr>\n",
              "    <tr>\n",
              "      <th>4</th>\n",
              "      <td>5</td>\n",
              "      <td>1</td>\n",
              "      <td>49</td>\n",
              "      <td>1.46</td>\n",
              "      <td>10.60</td>\n",
              "      <td>32</td>\n",
              "      <td>54</td>\n",
              "      <td>0</td>\n",
              "      <td>1</td>\n",
              "      <td>0</td>\n",
              "      <td>...</td>\n",
              "      <td>0</td>\n",
              "      <td>0</td>\n",
              "      <td>0</td>\n",
              "      <td>0</td>\n",
              "      <td>0</td>\n",
              "      <td>0</td>\n",
              "      <td>1</td>\n",
              "      <td>0</td>\n",
              "      <td>0</td>\n",
              "      <td>1</td>\n",
              "    </tr>\n",
              "    <tr>\n",
              "      <th>...</th>\n",
              "      <td>...</td>\n",
              "      <td>...</td>\n",
              "      <td>...</td>\n",
              "      <td>...</td>\n",
              "      <td>...</td>\n",
              "      <td>...</td>\n",
              "      <td>...</td>\n",
              "      <td>...</td>\n",
              "      <td>...</td>\n",
              "      <td>...</td>\n",
              "      <td>...</td>\n",
              "      <td>...</td>\n",
              "      <td>...</td>\n",
              "      <td>...</td>\n",
              "      <td>...</td>\n",
              "      <td>...</td>\n",
              "      <td>...</td>\n",
              "      <td>...</td>\n",
              "      <td>...</td>\n",
              "      <td>...</td>\n",
              "      <td>...</td>\n",
              "    </tr>\n",
              "    <tr>\n",
              "      <th>995</th>\n",
              "      <td>996</td>\n",
              "      <td>1</td>\n",
              "      <td>46</td>\n",
              "      <td>0.71</td>\n",
              "      <td>3.97</td>\n",
              "      <td>42</td>\n",
              "      <td>72</td>\n",
              "      <td>0</td>\n",
              "      <td>0</td>\n",
              "      <td>0</td>\n",
              "      <td>...</td>\n",
              "      <td>0</td>\n",
              "      <td>0</td>\n",
              "      <td>0</td>\n",
              "      <td>0</td>\n",
              "      <td>0</td>\n",
              "      <td>0</td>\n",
              "      <td>1</td>\n",
              "      <td>0</td>\n",
              "      <td>0</td>\n",
              "      <td>0</td>\n",
              "    </tr>\n",
              "    <tr>\n",
              "      <th>996</th>\n",
              "      <td>997</td>\n",
              "      <td>0</td>\n",
              "      <td>67</td>\n",
              "      <td>1.43</td>\n",
              "      <td>9.31</td>\n",
              "      <td>33</td>\n",
              "      <td>65</td>\n",
              "      <td>0</td>\n",
              "      <td>1</td>\n",
              "      <td>0</td>\n",
              "      <td>...</td>\n",
              "      <td>0</td>\n",
              "      <td>0</td>\n",
              "      <td>0</td>\n",
              "      <td>0</td>\n",
              "      <td>0</td>\n",
              "      <td>0</td>\n",
              "      <td>1</td>\n",
              "      <td>0</td>\n",
              "      <td>1</td>\n",
              "      <td>0</td>\n",
              "    </tr>\n",
              "    <tr>\n",
              "      <th>997</th>\n",
              "      <td>998</td>\n",
              "      <td>0</td>\n",
              "      <td>42</td>\n",
              "      <td>1.75</td>\n",
              "      <td>8.18</td>\n",
              "      <td>58</td>\n",
              "      <td>68</td>\n",
              "      <td>0</td>\n",
              "      <td>0</td>\n",
              "      <td>1</td>\n",
              "      <td>...</td>\n",
              "      <td>0</td>\n",
              "      <td>0</td>\n",
              "      <td>0</td>\n",
              "      <td>0</td>\n",
              "      <td>0</td>\n",
              "      <td>0</td>\n",
              "      <td>1</td>\n",
              "      <td>0</td>\n",
              "      <td>0</td>\n",
              "      <td>0</td>\n",
              "    </tr>\n",
              "    <tr>\n",
              "      <th>998</th>\n",
              "      <td>999</td>\n",
              "      <td>1</td>\n",
              "      <td>32</td>\n",
              "      <td>0.30</td>\n",
              "      <td>9.78</td>\n",
              "      <td>56</td>\n",
              "      <td>55</td>\n",
              "      <td>0</td>\n",
              "      <td>1</td>\n",
              "      <td>0</td>\n",
              "      <td>...</td>\n",
              "      <td>0</td>\n",
              "      <td>0</td>\n",
              "      <td>0</td>\n",
              "      <td>0</td>\n",
              "      <td>0</td>\n",
              "      <td>0</td>\n",
              "      <td>1</td>\n",
              "      <td>0</td>\n",
              "      <td>0</td>\n",
              "      <td>0</td>\n",
              "    </tr>\n",
              "    <tr>\n",
              "      <th>999</th>\n",
              "      <td>1000</td>\n",
              "      <td>1</td>\n",
              "      <td>45</td>\n",
              "      <td>0.63</td>\n",
              "      <td>5.97</td>\n",
              "      <td>62</td>\n",
              "      <td>45</td>\n",
              "      <td>0</td>\n",
              "      <td>0</td>\n",
              "      <td>1</td>\n",
              "      <td>...</td>\n",
              "      <td>0</td>\n",
              "      <td>0</td>\n",
              "      <td>0</td>\n",
              "      <td>0</td>\n",
              "      <td>0</td>\n",
              "      <td>0</td>\n",
              "      <td>0</td>\n",
              "      <td>0</td>\n",
              "      <td>0</td>\n",
              "      <td>1</td>\n",
              "    </tr>\n",
              "  </tbody>\n",
              "</table>\n",
              "<p>1000 rows × 41 columns</p>\n",
              "</div>\n",
              "      <button class=\"colab-df-convert\" onclick=\"convertToInteractive('df-8157ee25-8825-4036-9e64-3b33356f1d40')\"\n",
              "              title=\"Convert this dataframe to an interactive table.\"\n",
              "              style=\"display:none;\">\n",
              "        \n",
              "  <svg xmlns=\"http://www.w3.org/2000/svg\" height=\"24px\"viewBox=\"0 0 24 24\"\n",
              "       width=\"24px\">\n",
              "    <path d=\"M0 0h24v24H0V0z\" fill=\"none\"/>\n",
              "    <path d=\"M18.56 5.44l.94 2.06.94-2.06 2.06-.94-2.06-.94-.94-2.06-.94 2.06-2.06.94zm-11 1L8.5 8.5l.94-2.06 2.06-.94-2.06-.94L8.5 2.5l-.94 2.06-2.06.94zm10 10l.94 2.06.94-2.06 2.06-.94-2.06-.94-.94-2.06-.94 2.06-2.06.94z\"/><path d=\"M17.41 7.96l-1.37-1.37c-.4-.4-.92-.59-1.43-.59-.52 0-1.04.2-1.43.59L10.3 9.45l-7.72 7.72c-.78.78-.78 2.05 0 2.83L4 21.41c.39.39.9.59 1.41.59.51 0 1.02-.2 1.41-.59l7.78-7.78 2.81-2.81c.8-.78.8-2.07 0-2.86zM5.41 20L4 18.59l7.72-7.72 1.47 1.35L5.41 20z\"/>\n",
              "  </svg>\n",
              "      </button>\n",
              "      \n",
              "  <style>\n",
              "    .colab-df-container {\n",
              "      display:flex;\n",
              "      flex-wrap:wrap;\n",
              "      gap: 12px;\n",
              "    }\n",
              "\n",
              "    .colab-df-convert {\n",
              "      background-color: #E8F0FE;\n",
              "      border: none;\n",
              "      border-radius: 50%;\n",
              "      cursor: pointer;\n",
              "      display: none;\n",
              "      fill: #1967D2;\n",
              "      height: 32px;\n",
              "      padding: 0 0 0 0;\n",
              "      width: 32px;\n",
              "    }\n",
              "\n",
              "    .colab-df-convert:hover {\n",
              "      background-color: #E2EBFA;\n",
              "      box-shadow: 0px 1px 2px rgba(60, 64, 67, 0.3), 0px 1px 3px 1px rgba(60, 64, 67, 0.15);\n",
              "      fill: #174EA6;\n",
              "    }\n",
              "\n",
              "    [theme=dark] .colab-df-convert {\n",
              "      background-color: #3B4455;\n",
              "      fill: #D2E3FC;\n",
              "    }\n",
              "\n",
              "    [theme=dark] .colab-df-convert:hover {\n",
              "      background-color: #434B5C;\n",
              "      box-shadow: 0px 1px 3px 1px rgba(0, 0, 0, 0.15);\n",
              "      filter: drop-shadow(0px 1px 2px rgba(0, 0, 0, 0.3));\n",
              "      fill: #FFFFFF;\n",
              "    }\n",
              "  </style>\n",
              "\n",
              "      <script>\n",
              "        const buttonEl =\n",
              "          document.querySelector('#df-8157ee25-8825-4036-9e64-3b33356f1d40 button.colab-df-convert');\n",
              "        buttonEl.style.display =\n",
              "          google.colab.kernel.accessAllowed ? 'block' : 'none';\n",
              "\n",
              "        async function convertToInteractive(key) {\n",
              "          const element = document.querySelector('#df-8157ee25-8825-4036-9e64-3b33356f1d40');\n",
              "          const dataTable =\n",
              "            await google.colab.kernel.invokeFunction('convertToInteractive',\n",
              "                                                     [key], {});\n",
              "          if (!dataTable) return;\n",
              "\n",
              "          const docLinkHtml = 'Like what you see? Visit the ' +\n",
              "            '<a target=\"_blank\" href=https://colab.research.google.com/notebooks/data_table.ipynb>data table notebook</a>'\n",
              "            + ' to learn more about interactive tables.';\n",
              "          element.innerHTML = '';\n",
              "          dataTable['output_type'] = 'display_data';\n",
              "          await google.colab.output.renderOutput(dataTable, element);\n",
              "          const docLink = document.createElement('div');\n",
              "          docLink.innerHTML = docLinkHtml;\n",
              "          element.appendChild(docLink);\n",
              "        }\n",
              "      </script>\n",
              "    </div>\n",
              "  </div>\n",
              "  "
            ]
          },
          "metadata": {},
          "execution_count": 19
        }
      ]
    },
    {
      "cell_type": "code",
      "source": [
        "numeric_cols = ['Relative Strength in the segment', 'Profit of Customer in Million',\n",
        "       'Sales Value in Million', 'Profit %', 'WSES Proportion in Joint Bid',]\n",
        "cat_cols = list(set(df.columns) - set(numeric_cols) - {'target'}) #categorical columns\n",
        "cat_cols.sort()\n",
        "\n",
        "print(numeric_cols)\n",
        "print(cat_cols)"
      ],
      "metadata": {
        "colab": {
          "base_uri": "https://localhost:8080/"
        },
        "id": "5QIQunmlwMLG",
        "outputId": "a86d0101-5816-49bd-f627-0309b1252969"
      },
      "execution_count": null,
      "outputs": [
        {
          "output_type": "stream",
          "name": "stdout",
          "text": [
            "['Relative Strength in the segment', 'Profit of Customer in Million', 'Sales Value in Million', 'Profit %', 'WSES Proportion in Joint Bid']\n",
            "['Industry_Airline', 'Industry_Banks', 'Industry_Capital Markets', 'Industry_Clinical research', 'Industry_Consumer goods', 'Industry_Defense', 'Industry_Energy', 'Industry_Finance', 'Industry_Govt.', 'Industry_Health', 'Industry_Infrastructure', 'Industry_Insurance', 'Industry_Mobility', 'Industry_Other Govt.', 'Industry_Others', 'Industry_Security', 'Industry_Telecom equipments', 'Leads Conversion Class_F', 'Leads Conversion Class_L', 'Leads Conversion Class_V', 'Opportunity No.', 'Product_Finsys', 'Product_GTMSys', 'Product_LearnSys', 'Product_Lifesys', 'Product_Logissys', 'Product_Procsys', 'Region_Americas', 'Region_Canada', 'Region_India', 'Region_Japan', 'Region_Other Europe', 'Region_Singapore', 'Region_Spain', 'Region_UK']\n"
          ]
        }
      ]
    },
    {
      "cell_type": "code",
      "source": [
        "random_seed = 888\n",
        "df_train, df_test = train_test_split(df, test_size=0.2, random_state=random_seed, stratify=df['target'])\n"
      ],
      "metadata": {
        "id": "FpcS__eiwSks"
      },
      "execution_count": null,
      "outputs": []
    },
    {
      "cell_type": "code",
      "source": [
        "#Scaling the dataset \n",
        "scaler = StandardScaler()\n",
        "scaler.fit(df_train[numeric_cols])\n",
        "\n",
        "def get_features_and_target_arrays(df, numeric_cols, cat_cols, scaler):\n",
        "    X_numeric_scaled = scaler.transform(df[numeric_cols])\n",
        "    X_categorical = df[cat_cols].to_numpy()\n",
        "    X = np.hstack((X_categorical, X_numeric_scaled))\n",
        "    y = df['target']\n",
        "    return X, y\n",
        "\n",
        "X, y = get_features_and_target_arrays(df_train, numeric_cols, cat_cols, scaler)"
      ],
      "metadata": {
        "id": "0hwH_cRZwTbX"
      },
      "execution_count": null,
      "outputs": []
    },
    {
      "cell_type": "code",
      "source": [
        "X_train, X_test, y_train, y_test = train_test_split(X, y, test_size = 0.25, random_state = 22)\n",
        "\n"
      ],
      "metadata": {
        "id": "u6vpUNxhwdUj"
      },
      "execution_count": null,
      "outputs": []
    },
    {
      "cell_type": "code",
      "source": [
        "dtree = DecisionTreeClassifier(random_state = 22)\n",
        "dtree.fit(X_train,y_train)\n"
      ],
      "metadata": {
        "colab": {
          "base_uri": "https://localhost:8080/"
        },
        "id": "K490vQLjw5iC",
        "outputId": "9857f288-41c1-4b2f-82c2-65e394d4b0e6"
      },
      "execution_count": null,
      "outputs": [
        {
          "output_type": "execute_result",
          "data": {
            "text/plain": [
              "DecisionTreeClassifier(random_state=22)"
            ]
          },
          "metadata": {},
          "execution_count": 24
        }
      ]
    },
    {
      "cell_type": "code",
      "source": [
        "y_pred = dtree.predict(X_test)\n",
        "\n",
        "print(\"Train data accuracy:\",accuracy_score(y_true = y_train, y_pred = dtree.predict(X_train)))\n",
        "print(\"Test data accuracy:\",accuracy_score(y_true = y_test, y_pred = y_pred))"
      ],
      "metadata": {
        "colab": {
          "base_uri": "https://localhost:8080/"
        },
        "id": "Y5L688c3xPZO",
        "outputId": "76d78881-ca07-4f07-e539-46094e97ee30"
      },
      "execution_count": null,
      "outputs": [
        {
          "output_type": "stream",
          "name": "stdout",
          "text": [
            "Train data accuracy: 1.0\n",
            "Test data accuracy: 0.85\n"
          ]
        }
      ]
    },
    {
      "cell_type": "code",
      "source": [
        "from sklearn.ensemble import RandomForestClassifier  \n",
        "clf= RandomForestClassifier(n_estimators= 10, criterion=\"entropy\")  \n",
        "clf.fit(X_train, y_train)  "
      ],
      "metadata": {
        "colab": {
          "base_uri": "https://localhost:8080/"
        },
        "id": "FDBZ5-j_xX9n",
        "outputId": "9571d4cc-3462-458d-d5a8-d833a84a9157"
      },
      "execution_count": null,
      "outputs": [
        {
          "output_type": "execute_result",
          "data": {
            "text/plain": [
              "RandomForestClassifier(criterion='entropy', n_estimators=10)"
            ]
          },
          "metadata": {},
          "execution_count": 26
        }
      ]
    },
    {
      "cell_type": "code",
      "source": [
        "models = []\n",
        "scores = []\n",
        "clf.fit(X_train, y_train)\n",
        "models.append(clf)\n",
        "scores.append(accuracy_score(y_true = y_test, y_pred = clf.predict(X_test)))\n",
        "\n"
      ],
      "metadata": {
        "id": "zR1C4HGHxjjo"
      },
      "execution_count": null,
      "outputs": []
    },
    {
      "cell_type": "code",
      "source": [
        "X_test, y_test = get_features_and_target_arrays(df_test, numeric_cols, cat_cols, scaler)\n"
      ],
      "metadata": {
        "id": "Nnoulv8hxtqs"
      },
      "execution_count": null,
      "outputs": []
    },
    {
      "cell_type": "code",
      "source": [
        "plot_roc_curve(clf, X_test, y_test)\n"
      ],
      "metadata": {
        "colab": {
          "base_uri": "https://localhost:8080/",
          "height": 351
        },
        "id": "jYKzJO2fx0Ml",
        "outputId": "ee835eea-5a6f-4505-d48f-9cd092c5e72c"
      },
      "execution_count": null,
      "outputs": [
        {
          "output_type": "stream",
          "name": "stderr",
          "text": [
            "/usr/local/lib/python3.7/dist-packages/sklearn/utils/deprecation.py:87: FutureWarning: Function plot_roc_curve is deprecated; Function :func:`plot_roc_curve` is deprecated in 1.0 and will be removed in 1.2. Use one of the class methods: :meth:`sklearn.metric.RocCurveDisplay.from_predictions` or :meth:`sklearn.metric.RocCurveDisplay.from_estimator`.\n",
            "  warnings.warn(msg, category=FutureWarning)\n"
          ]
        },
        {
          "output_type": "execute_result",
          "data": {
            "text/plain": [
              "<sklearn.metrics._plot.roc_curve.RocCurveDisplay at 0x7ff5314b6950>"
            ]
          },
          "metadata": {},
          "execution_count": 29
        },
        {
          "output_type": "display_data",
          "data": {
            "text/plain": [
              "<Figure size 432x288 with 1 Axes>"
            ],
            "image/png": "[encoded data removed]"
          },
          "metadata": {
            "needs_background": "light"
          }
        }
      ]
    },
    {
      "cell_type": "code",
      "source": [
        "plot_precision_recall_curve(clf, X_test, y_test)\n"
      ],
      "metadata": {
        "colab": {
          "base_uri": "https://localhost:8080/",
          "height": 351
        },
        "id": "Omd8o6Lqx26S",
        "outputId": "1b8aec08-d418-47cf-e16b-8cf3939b2ccb"
      },
      "execution_count": null,
      "outputs": [
        {
          "output_type": "stream",
          "name": "stderr",
          "text": [
            "/usr/local/lib/python3.7/dist-packages/sklearn/utils/deprecation.py:87: FutureWarning: Function plot_precision_recall_curve is deprecated; Function `plot_precision_recall_curve` is deprecated in 1.0 and will be removed in 1.2. Use one of the class methods: PrecisionRecallDisplay.from_predictions or PrecisionRecallDisplay.from_estimator.\n",
            "  warnings.warn(msg, category=FutureWarning)\n"
          ]
        },
        {
          "output_type": "execute_result",
          "data": {
            "text/plain": [
              "<sklearn.metrics._plot.precision_recall_curve.PrecisionRecallDisplay at 0x7ff53140c1d0>"
            ]
          },
          "metadata": {},
          "execution_count": 30
        },
        {
          "output_type": "display_data",
          "data": {
            "text/plain": [
              "<Figure size 432x288 with 1 Axes>"
            ],
            "image/png": "[encoded data removed]"
          },
          "metadata": {
            "needs_background": "light"
          }
        }
      ]
    },
    {
      "cell_type": "code",
      "source": [
        "test_prob = clf.predict_proba(X_test)[:, 1] # the second column is P(target = 1)\n",
        "test_pred = clf.predict(X_test)"
      ],
      "metadata": {
        "id": "6NmLAMLVx660"
      },
      "execution_count": null,
      "outputs": []
    },
    {
      "cell_type": "code",
      "source": [
        "print('Log loss = {:.5f}'.format(log_loss(y_test, test_prob)))\n",
        "print('AUC = {:.5f}'.format(roc_auc_score(y_test, test_prob)))\n",
        "print('Average Precision = {:.5f}'.format(average_precision_score(y_test, test_prob)))\n",
        "print('\\nUsing 0.5 as threshold:')\n",
        "print('Accuracy = {:.5f}'.format(accuracy_score(y_test, test_pred)))\n",
        "print('Precision = {:.5f}'.format(precision_score(y_test, test_pred)))\n",
        "print('Recall = {:.5f}'.format(recall_score(y_test, test_pred)))\n",
        "print('F1 score = {:.5f}'.format(f1_score(y_test, test_pred)))\n",
        "\n",
        "\n"
      ],
      "metadata": {
        "colab": {
          "base_uri": "https://localhost:8080/"
        },
        "id": "0r4cZh_ix-Fs",
        "outputId": "0cce31e7-30d2-43db-c597-5e9b1bdc67c4"
      },
      "execution_count": null,
      "outputs": [
        {
          "output_type": "stream",
          "name": "stdout",
          "text": [
            "Log loss = 0.31018\n",
            "AUC = 0.94767\n",
            "Average Precision = 0.93943\n",
            "\n",
            "Using 0.5 as threshold:\n",
            "Accuracy = 0.87500\n",
            "Precision = 0.89011\n",
            "Recall = 0.84375\n",
            "F1 score = 0.86631\n"
          ]
        }
      ]
    },
    {
      "cell_type": "code",
      "source": [
        "print('Confusion Matrix')\n",
        "plot_confusion_matrix(clf, X_test, y_test)"
      ],
      "metadata": {
        "colab": {
          "base_uri": "https://localhost:8080/",
          "height": 368
        },
        "id": "MAXDXYyGyCz2",
        "outputId": "23c1c08f-f988-4839-8fab-eff0a088b4e1"
      },
      "execution_count": null,
      "outputs": [
        {
          "output_type": "stream",
          "name": "stdout",
          "text": [
            "Confusion Matrix\n"
          ]
        },
        {
          "output_type": "stream",
          "name": "stderr",
          "text": [
            "/usr/local/lib/python3.7/dist-packages/sklearn/utils/deprecation.py:87: FutureWarning: Function plot_confusion_matrix is deprecated; Function `plot_confusion_matrix` is deprecated in 1.0 and will be removed in 1.2. Use one of the class methods: ConfusionMatrixDisplay.from_predictions or ConfusionMatrixDisplay.from_estimator.\n",
            "  warnings.warn(msg, category=FutureWarning)\n"
          ]
        },
        {
          "output_type": "execute_result",
          "data": {
            "text/plain": [
              "<sklearn.metrics._plot.confusion_matrix.ConfusionMatrixDisplay at 0x7ff530f9ba90>"
            ]
          },
          "metadata": {},
          "execution_count": 33
        },
        {
          "output_type": "display_data",
          "data": {
            "text/plain": [
              "<Figure size 432x288 with 2 Axes>"
            ],
            "image/png": "[encoded data removed]"
          },
          "metadata": {
            "needs_background": "light"
          }
        }
      ]
    },
    {
      "cell_type": "code",
      "source": [
        "from sklearn import metrics\n",
        "recall_sensitivity = metrics.recall_score(y_test, test_pred, pos_label=1)\n",
        "recall_specificity = metrics.recall_score(y_test, test_pred, pos_label=0)\n",
        "recall_sensitivity, recall_specificity "
      ],
      "metadata": {
        "colab": {
          "base_uri": "https://localhost:8080/"
        },
        "id": "xHLhJA5syAJx",
        "outputId": "11ccc980-3c64-4031-b798-1fb61711d260"
      },
      "execution_count": null,
      "outputs": [
        {
          "output_type": "execute_result",
          "data": {
            "text/plain": [
              "(0.84375, 0.9038461538461539)"
            ]
          },
          "metadata": {},
          "execution_count": 34
        }
      ]
    }
  ]
}