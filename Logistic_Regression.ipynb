{
  "nbformat": 4,
  "nbformat_minor": 0,
  "metadata": {
    "colab": {
      "provenance": [],
      "authorship_tag": "ABX9TyM+yl41dsT09A8ZZwNmZrHq",
      "include_colab_link": true
    },
    "kernelspec": {
      "name": "python3",
      "display_name": "Python 3"
    },
    "accelerator": "TPU"
  },
  "cells": [
    {
      "cell_type": "markdown",
      "metadata": {
        "id": "view-in-github",
        "colab_type": "text"
      },
      "source": [
        "<a href=\"https://colab.research.google.com/github/sanchariguhaniyogi/lead_Classification/blob/main/Logistic_Regression.ipynb\" target=\"_parent\"><img src=\"https://colab.research.google.com/assets/colab-badge.svg\" alt=\"Open In Colab\"/></a>"
      ]
    },
    {
      "cell_type": "code",
      "source": [
        "import pandas as pd\n",
        "import numpy as np\n",
        "from sklearn.preprocessing import StandardScaler\n",
        "from sklearn.model_selection import train_test_split\n",
        "from sklearn.linear_model import LogisticRegression\n",
        "from sklearn.metrics import log_loss, roc_auc_score, recall_score, precision_score, average_precision_score, f1_score, classification_report, accuracy_score, plot_roc_curve, plot_precision_recall_curve, plot_confusion_matrix"
      ],
      "metadata": {
        "id": "Ngrq9dPFdsIP"
      },
      "execution_count": 1,
      "outputs": []
    },
    {
      "cell_type": "code",
      "source": [
        "df = pd.read_csv('lead_conv.csv', na_values='?')\n",
        "#df.head()\n",
        "df.columns\n"
      ],
      "metadata": {
        "colab": {
          "base_uri": "https://localhost:8080/"
        },
        "id": "597TaWBnOQ6r",
        "outputId": "f1f2d4ee-4053-4210-8401-a938e12511cf"
      },
      "execution_count": 2,
      "outputs": [
        {
          "output_type": "execute_result",
          "data": {
            "text/plain": [
              "Index(['Opportunity No.', 'Outcome', 'Product', 'Industry', 'Region',\n",
              "       'Relative Strength in the segment', 'Profit of Customer in Million',\n",
              "       'Sales Value in Million', 'Profit %', 'WSES Proportion in Joint Bid',\n",
              "       'Leads Conversion Class'],\n",
              "      dtype='object')"
            ]
          },
          "metadata": {},
          "execution_count": 2
        }
      ]
    },
    {
      "cell_type": "code",
      "source": [
        "df = df.rename(columns={'Outcome': 'target'})\n",
        "df['target'].value_counts(dropna=False)"
      ],
      "metadata": {
        "colab": {
          "base_uri": "https://localhost:8080/"
        },
        "id": "DYx8T-fUOekp",
        "outputId": "cfefbd07-50df-4305-8d30-dc91557c7b7f"
      },
      "execution_count": 3,
      "outputs": [
        {
          "output_type": "execute_result",
          "data": {
            "text/plain": [
              "0    519\n",
              "1    481\n",
              "Name: target, dtype: int64"
            ]
          },
          "metadata": {},
          "execution_count": 3
        }
      ]
    },
    {
      "cell_type": "code",
      "source": [
        "df = pd.get_dummies(df, columns=['Product', 'Industry', 'Region', 'Leads Conversion Class'], drop_first=True)\n",
        "df"
      ],
      "metadata": {
        "colab": {
          "base_uri": "https://localhost:8080/",
          "height": 557
        },
        "id": "Hc8t-1DgO77Z",
        "outputId": "5664a319-e9a7-446c-9537-24bb625a12af"
      },
      "execution_count": 4,
      "outputs": [
        {
          "output_type": "execute_result",
          "data": {
            "text/plain": [
              "     Opportunity No.  target  Relative Strength in the segment  \\\n",
              "0                  1       0                                45   \n",
              "1                  2       1                                56   \n",
              "2                  3       0                                48   \n",
              "3                  4       1                                58   \n",
              "4                  5       1                                49   \n",
              "..               ...     ...                               ...   \n",
              "995              996       1                                46   \n",
              "996              997       0                                67   \n",
              "997              998       0                                42   \n",
              "998              999       1                                32   \n",
              "999             1000       1                                45   \n",
              "\n",
              "     Profit of Customer in Million  Sales Value in Million  Profit %  \\\n",
              "0                             2.11                   10.29        29   \n",
              "1                             0.79                   11.42        46   \n",
              "2                             1.62                    5.63        70   \n",
              "3                             0.09                   10.17        46   \n",
              "4                             1.46                   10.60        32   \n",
              "..                             ...                     ...       ...   \n",
              "995                           0.71                    3.97        42   \n",
              "996                           1.43                    9.31        33   \n",
              "997                           1.75                    8.18        58   \n",
              "998                           0.30                    9.78        56   \n",
              "999                           0.63                    5.97        62   \n",
              "\n",
              "     WSES Proportion in Joint Bid  Product_Finsys  Product_GTMSys  \\\n",
              "0                              66               0               0   \n",
              "1                              50               0               1   \n",
              "2                              50               0               1   \n",
              "3                              56               0               1   \n",
              "4                              54               0               1   \n",
              "..                            ...             ...             ...   \n",
              "995                            72               0               0   \n",
              "996                            65               0               1   \n",
              "997                            68               0               0   \n",
              "998                            55               0               1   \n",
              "999                            45               0               0   \n",
              "\n",
              "     Product_LearnSys  ...  Region_Canada  Region_India  Region_Japan  \\\n",
              "0                   1  ...              0             0             0   \n",
              "1                   0  ...              0             0             0   \n",
              "2                   0  ...              0             0             0   \n",
              "3                   0  ...              0             0             0   \n",
              "4                   0  ...              0             0             0   \n",
              "..                ...  ...            ...           ...           ...   \n",
              "995                 0  ...              0             0             0   \n",
              "996                 0  ...              0             0             0   \n",
              "997                 1  ...              0             0             0   \n",
              "998                 0  ...              0             0             0   \n",
              "999                 1  ...              0             0             0   \n",
              "\n",
              "     Region_Other Europe  Region_Singapore  Region_Spain  Region_UK  \\\n",
              "0                      0                 0             0          0   \n",
              "1                      0                 0             0          1   \n",
              "2                      0                 0             0          1   \n",
              "3                      0                 0             0          1   \n",
              "4                      0                 0             0          1   \n",
              "..                   ...               ...           ...        ...   \n",
              "995                    0                 0             0          1   \n",
              "996                    0                 0             0          1   \n",
              "997                    0                 0             0          1   \n",
              "998                    0                 0             0          1   \n",
              "999                    0                 0             0          0   \n",
              "\n",
              "     Leads Conversion Class_F  Leads Conversion Class_L  \\\n",
              "0                           1                         0   \n",
              "1                           0                         0   \n",
              "2                           1                         0   \n",
              "3                           0                         0   \n",
              "4                           0                         0   \n",
              "..                        ...                       ...   \n",
              "995                         0                         0   \n",
              "996                         0                         1   \n",
              "997                         0                         0   \n",
              "998                         0                         0   \n",
              "999                         0                         0   \n",
              "\n",
              "     Leads Conversion Class_V  \n",
              "0                           0  \n",
              "1                           0  \n",
              "2                           0  \n",
              "3                           0  \n",
              "4                           1  \n",
              "..                        ...  \n",
              "995                         0  \n",
              "996                         0  \n",
              "997                         0  \n",
              "998                         0  \n",
              "999                         1  \n",
              "\n",
              "[1000 rows x 41 columns]"
            ],
            "text/html": [
              "\n",
              "  <div id=\"df-1fbd8c2c-85e2-4bb6-9031-a7f887155024\">\n",
              "    <div class=\"colab-df-container\">\n",
              "      <div>\n",
              "<style scoped>\n",
              "    .dataframe tbody tr th:only-of-type {\n",
              "        vertical-align: middle;\n",
              "    }\n",
              "\n",
              "    .dataframe tbody tr th {\n",
              "        vertical-align: top;\n",
              "    }\n",
              "\n",
              "    .dataframe thead th {\n",
              "        text-align: right;\n",
              "    }\n",
              "</style>\n",
              "<table border=\"1\" class=\"dataframe\">\n",
              "  <thead>\n",
              "    <tr style=\"text-align: right;\">\n",
              "      <th></th>\n",
              "      <th>Opportunity No.</th>\n",
              "      <th>target</th>\n",
              "      <th>Relative Strength in the segment</th>\n",
              "      <th>Profit of Customer in Million</th>\n",
              "      <th>Sales Value in Million</th>\n",
              "      <th>Profit %</th>\n",
              "      <th>WSES Proportion in Joint Bid</th>\n",
              "      <th>Product_Finsys</th>\n",
              "      <th>Product_GTMSys</th>\n",
              "      <th>Product_LearnSys</th>\n",
              "      <th>...</th>\n",
              "      <th>Region_Canada</th>\n",
              "      <th>Region_India</th>\n",
              "      <th>Region_Japan</th>\n",
              "      <th>Region_Other Europe</th>\n",
              "      <th>Region_Singapore</th>\n",
              "      <th>Region_Spain</th>\n",
              "      <th>Region_UK</th>\n",
              "      <th>Leads Conversion Class_F</th>\n",
              "      <th>Leads Conversion Class_L</th>\n",
              "      <th>Leads Conversion Class_V</th>\n",
              "    </tr>\n",
              "  </thead>\n",
              "  <tbody>\n",
              "    <tr>\n",
              "      <th>0</th>\n",
              "      <td>1</td>\n",
              "      <td>0</td>\n",
              "      <td>45</td>\n",
              "      <td>2.11</td>\n",
              "      <td>10.29</td>\n",
              "      <td>29</td>\n",
              "      <td>66</td>\n",
              "      <td>0</td>\n",
              "      <td>0</td>\n",
              "      <td>1</td>\n",
              "      <td>...</td>\n",
              "      <td>0</td>\n",
              "      <td>0</td>\n",
              "      <td>0</td>\n",
              "      <td>0</td>\n",
              "      <td>0</td>\n",
              "      <td>0</td>\n",
              "      <td>0</td>\n",
              "      <td>1</td>\n",
              "      <td>0</td>\n",
              "      <td>0</td>\n",
              "    </tr>\n",
              "    <tr>\n",
              "      <th>1</th>\n",
              "      <td>2</td>\n",
              "      <td>1</td>\n",
              "      <td>56</td>\n",
              "      <td>0.79</td>\n",
              "      <td>11.42</td>\n",
              "      <td>46</td>\n",
              "      <td>50</td>\n",
              "      <td>0</td>\n",
              "      <td>1</td>\n",
              "      <td>0</td>\n",
              "      <td>...</td>\n",
              "      <td>0</td>\n",
              "      <td>0</td>\n",
              "      <td>0</td>\n",
              "      <td>0</td>\n",
              "      <td>0</td>\n",
              "      <td>0</td>\n",
              "      <td>1</td>\n",
              "      <td>0</td>\n",
              "      <td>0</td>\n",
              "      <td>0</td>\n",
              "    </tr>\n",
              "    <tr>\n",
              "      <th>2</th>\n",
              "      <td>3</td>\n",
              "      <td>0</td>\n",
              "      <td>48</td>\n",
              "      <td>1.62</td>\n",
              "      <td>5.63</td>\n",
              "      <td>70</td>\n",
              "      <td>50</td>\n",
              "      <td>0</td>\n",
              "      <td>1</td>\n",
              "      <td>0</td>\n",
              "      <td>...</td>\n",
              "      <td>0</td>\n",
              "      <td>0</td>\n",
              "      <td>0</td>\n",
              "      <td>0</td>\n",
              "      <td>0</td>\n",
              "      <td>0</td>\n",
              "      <td>1</td>\n",
              "      <td>1</td>\n",
              "      <td>0</td>\n",
              "      <td>0</td>\n",
              "    </tr>\n",
              "    <tr>\n",
              "      <th>3</th>\n",
              "      <td>4</td>\n",
              "      <td>1</td>\n",
              "      <td>58</td>\n",
              "      <td>0.09</td>\n",
              "      <td>10.17</td>\n",
              "      <td>46</td>\n",
              "      <td>56</td>\n",
              "      <td>0</td>\n",
              "      <td>1</td>\n",
              "      <td>0</td>\n",
              "      <td>...</td>\n",
              "      <td>0</td>\n",
              "      <td>0</td>\n",
              "      <td>0</td>\n",
              "      <td>0</td>\n",
              "      <td>0</td>\n",
              "      <td>0</td>\n",
              "      <td>1</td>\n",
              "      <td>0</td>\n",
              "      <td>0</td>\n",
              "      <td>0</td>\n",
              "    </tr>\n",
              "    <tr>\n",
              "      <th>4</th>\n",
              "      <td>5</td>\n",
              "      <td>1</td>\n",
              "      <td>49</td>\n",
              "      <td>1.46</td>\n",
              "      <td>10.60</td>\n",
              "      <td>32</td>\n",
              "      <td>54</td>\n",
              "      <td>0</td>\n",
              "      <td>1</td>\n",
              "      <td>0</td>\n",
              "      <td>...</td>\n",
              "      <td>0</td>\n",
              "      <td>0</td>\n",
              "      <td>0</td>\n",
              "      <td>0</td>\n",
              "      <td>0</td>\n",
              "      <td>0</td>\n",
              "      <td>1</td>\n",
              "      <td>0</td>\n",
              "      <td>0</td>\n",
              "      <td>1</td>\n",
              "    </tr>\n",
              "    <tr>\n",
              "      <th>...</th>\n",
              "      <td>...</td>\n",
              "      <td>...</td>\n",
              "      <td>...</td>\n",
              "      <td>...</td>\n",
              "      <td>...</td>\n",
              "      <td>...</td>\n",
              "      <td>...</td>\n",
              "      <td>...</td>\n",
              "      <td>...</td>\n",
              "      <td>...</td>\n",
              "      <td>...</td>\n",
              "      <td>...</td>\n",
              "      <td>...</td>\n",
              "      <td>...</td>\n",
              "      <td>...</td>\n",
              "      <td>...</td>\n",
              "      <td>...</td>\n",
              "      <td>...</td>\n",
              "      <td>...</td>\n",
              "      <td>...</td>\n",
              "      <td>...</td>\n",
              "    </tr>\n",
              "    <tr>\n",
              "      <th>995</th>\n",
              "      <td>996</td>\n",
              "      <td>1</td>\n",
              "      <td>46</td>\n",
              "      <td>0.71</td>\n",
              "      <td>3.97</td>\n",
              "      <td>42</td>\n",
              "      <td>72</td>\n",
              "      <td>0</td>\n",
              "      <td>0</td>\n",
              "      <td>0</td>\n",
              "      <td>...</td>\n",
              "      <td>0</td>\n",
              "      <td>0</td>\n",
              "      <td>0</td>\n",
              "      <td>0</td>\n",
              "      <td>0</td>\n",
              "      <td>0</td>\n",
              "      <td>1</td>\n",
              "      <td>0</td>\n",
              "      <td>0</td>\n",
              "      <td>0</td>\n",
              "    </tr>\n",
              "    <tr>\n",
              "      <th>996</th>\n",
              "      <td>997</td>\n",
              "      <td>0</td>\n",
              "      <td>67</td>\n",
              "      <td>1.43</td>\n",
              "      <td>9.31</td>\n",
              "      <td>33</td>\n",
              "      <td>65</td>\n",
              "      <td>0</td>\n",
              "      <td>1</td>\n",
              "      <td>0</td>\n",
              "      <td>...</td>\n",
              "      <td>0</td>\n",
              "      <td>0</td>\n",
              "      <td>0</td>\n",
              "      <td>0</td>\n",
              "      <td>0</td>\n",
              "      <td>0</td>\n",
              "      <td>1</td>\n",
              "      <td>0</td>\n",
              "      <td>1</td>\n",
              "      <td>0</td>\n",
              "    </tr>\n",
              "    <tr>\n",
              "      <th>997</th>\n",
              "      <td>998</td>\n",
              "      <td>0</td>\n",
              "      <td>42</td>\n",
              "      <td>1.75</td>\n",
              "      <td>8.18</td>\n",
              "      <td>58</td>\n",
              "      <td>68</td>\n",
              "      <td>0</td>\n",
              "      <td>0</td>\n",
              "      <td>1</td>\n",
              "      <td>...</td>\n",
              "      <td>0</td>\n",
              "      <td>0</td>\n",
              "      <td>0</td>\n",
              "      <td>0</td>\n",
              "      <td>0</td>\n",
              "      <td>0</td>\n",
              "      <td>1</td>\n",
              "      <td>0</td>\n",
              "      <td>0</td>\n",
              "      <td>0</td>\n",
              "    </tr>\n",
              "    <tr>\n",
              "      <th>998</th>\n",
              "      <td>999</td>\n",
              "      <td>1</td>\n",
              "      <td>32</td>\n",
              "      <td>0.30</td>\n",
              "      <td>9.78</td>\n",
              "      <td>56</td>\n",
              "      <td>55</td>\n",
              "      <td>0</td>\n",
              "      <td>1</td>\n",
              "      <td>0</td>\n",
              "      <td>...</td>\n",
              "      <td>0</td>\n",
              "      <td>0</td>\n",
              "      <td>0</td>\n",
              "      <td>0</td>\n",
              "      <td>0</td>\n",
              "      <td>0</td>\n",
              "      <td>1</td>\n",
              "      <td>0</td>\n",
              "      <td>0</td>\n",
              "      <td>0</td>\n",
              "    </tr>\n",
              "    <tr>\n",
              "      <th>999</th>\n",
              "      <td>1000</td>\n",
              "      <td>1</td>\n",
              "      <td>45</td>\n",
              "      <td>0.63</td>\n",
              "      <td>5.97</td>\n",
              "      <td>62</td>\n",
              "      <td>45</td>\n",
              "      <td>0</td>\n",
              "      <td>0</td>\n",
              "      <td>1</td>\n",
              "      <td>...</td>\n",
              "      <td>0</td>\n",
              "      <td>0</td>\n",
              "      <td>0</td>\n",
              "      <td>0</td>\n",
              "      <td>0</td>\n",
              "      <td>0</td>\n",
              "      <td>0</td>\n",
              "      <td>0</td>\n",
              "      <td>0</td>\n",
              "      <td>1</td>\n",
              "    </tr>\n",
              "  </tbody>\n",
              "</table>\n",
              "<p>1000 rows × 41 columns</p>\n",
              "</div>\n",
              "      <button class=\"colab-df-convert\" onclick=\"convertToInteractive('df-1fbd8c2c-85e2-4bb6-9031-a7f887155024')\"\n",
              "              title=\"Convert this dataframe to an interactive table.\"\n",
              "              style=\"display:none;\">\n",
              "        \n",
              "  <svg xmlns=\"http://www.w3.org/2000/svg\" height=\"24px\"viewBox=\"0 0 24 24\"\n",
              "       width=\"24px\">\n",
              "    <path d=\"M0 0h24v24H0V0z\" fill=\"none\"/>\n",
              "    <path d=\"M18.56 5.44l.94 2.06.94-2.06 2.06-.94-2.06-.94-.94-2.06-.94 2.06-2.06.94zm-11 1L8.5 8.5l.94-2.06 2.06-.94-2.06-.94L8.5 2.5l-.94 2.06-2.06.94zm10 10l.94 2.06.94-2.06 2.06-.94-2.06-.94-.94-2.06-.94 2.06-2.06.94z\"/><path d=\"M17.41 7.96l-1.37-1.37c-.4-.4-.92-.59-1.43-.59-.52 0-1.04.2-1.43.59L10.3 9.45l-7.72 7.72c-.78.78-.78 2.05 0 2.83L4 21.41c.39.39.9.59 1.41.59.51 0 1.02-.2 1.41-.59l7.78-7.78 2.81-2.81c.8-.78.8-2.07 0-2.86zM5.41 20L4 18.59l7.72-7.72 1.47 1.35L5.41 20z\"/>\n",
              "  </svg>\n",
              "      </button>\n",
              "      \n",
              "  <style>\n",
              "    .colab-df-container {\n",
              "      display:flex;\n",
              "      flex-wrap:wrap;\n",
              "      gap: 12px;\n",
              "    }\n",
              "\n",
              "    .colab-df-convert {\n",
              "      background-color: #E8F0FE;\n",
              "      border: none;\n",
              "      border-radius: 50%;\n",
              "      cursor: pointer;\n",
              "      display: none;\n",
              "      fill: #1967D2;\n",
              "      height: 32px;\n",
              "      padding: 0 0 0 0;\n",
              "      width: 32px;\n",
              "    }\n",
              "\n",
              "    .colab-df-convert:hover {\n",
              "      background-color: #E2EBFA;\n",
              "      box-shadow: 0px 1px 2px rgba(60, 64, 67, 0.3), 0px 1px 3px 1px rgba(60, 64, 67, 0.15);\n",
              "      fill: #174EA6;\n",
              "    }\n",
              "\n",
              "    [theme=dark] .colab-df-convert {\n",
              "      background-color: #3B4455;\n",
              "      fill: #D2E3FC;\n",
              "    }\n",
              "\n",
              "    [theme=dark] .colab-df-convert:hover {\n",
              "      background-color: #434B5C;\n",
              "      box-shadow: 0px 1px 3px 1px rgba(0, 0, 0, 0.15);\n",
              "      filter: drop-shadow(0px 1px 2px rgba(0, 0, 0, 0.3));\n",
              "      fill: #FFFFFF;\n",
              "    }\n",
              "  </style>\n",
              "\n",
              "      <script>\n",
              "        const buttonEl =\n",
              "          document.querySelector('#df-1fbd8c2c-85e2-4bb6-9031-a7f887155024 button.colab-df-convert');\n",
              "        buttonEl.style.display =\n",
              "          google.colab.kernel.accessAllowed ? 'block' : 'none';\n",
              "\n",
              "        async function convertToInteractive(key) {\n",
              "          const element = document.querySelector('#df-1fbd8c2c-85e2-4bb6-9031-a7f887155024');\n",
              "          const dataTable =\n",
              "            await google.colab.kernel.invokeFunction('convertToInteractive',\n",
              "                                                     [key], {});\n",
              "          if (!dataTable) return;\n",
              "\n",
              "          const docLinkHtml = 'Like what you see? Visit the ' +\n",
              "            '<a target=\"_blank\" href=https://colab.research.google.com/notebooks/data_table.ipynb>data table notebook</a>'\n",
              "            + ' to learn more about interactive tables.';\n",
              "          element.innerHTML = '';\n",
              "          dataTable['output_type'] = 'display_data';\n",
              "          await google.colab.output.renderOutput(dataTable, element);\n",
              "          const docLink = document.createElement('div');\n",
              "          docLink.innerHTML = docLinkHtml;\n",
              "          element.appendChild(docLink);\n",
              "        }\n",
              "      </script>\n",
              "    </div>\n",
              "  </div>\n",
              "  "
            ]
          },
          "metadata": {},
          "execution_count": 4
        }
      ]
    },
    {
      "cell_type": "code",
      "source": [
        "numeric_cols = ['Relative Strength in the segment', 'Profit of Customer in Million',\n",
        "       'Sales Value in Million', 'Profit %', 'WSES Proportion in Joint Bid',]\n",
        "cat_cols = list(set(df.columns) - set(numeric_cols) - {'target'}) #categorical columns\n",
        "cat_cols.sort()\n",
        "\n",
        "print(numeric_cols)\n",
        "print(cat_cols)"
      ],
      "metadata": {
        "colab": {
          "base_uri": "https://localhost:8080/"
        },
        "id": "Dj8nkgu8PlX-",
        "outputId": "80423bdf-4790-4cb1-fd4f-8defc6d5a4c5"
      },
      "execution_count": 5,
      "outputs": [
        {
          "output_type": "stream",
          "name": "stdout",
          "text": [
            "['Relative Strength in the segment', 'Profit of Customer in Million', 'Sales Value in Million', 'Profit %', 'WSES Proportion in Joint Bid']\n",
            "['Industry_Airline', 'Industry_Banks', 'Industry_Capital Markets', 'Industry_Clinical research', 'Industry_Consumer goods', 'Industry_Defense', 'Industry_Energy', 'Industry_Finance', 'Industry_Govt.', 'Industry_Health', 'Industry_Infrastructure', 'Industry_Insurance', 'Industry_Mobility', 'Industry_Other Govt.', 'Industry_Others', 'Industry_Security', 'Industry_Telecom equipments', 'Leads Conversion Class_F', 'Leads Conversion Class_L', 'Leads Conversion Class_V', 'Opportunity No.', 'Product_Finsys', 'Product_GTMSys', 'Product_LearnSys', 'Product_Lifesys', 'Product_Logissys', 'Product_Procsys', 'Region_Americas', 'Region_Canada', 'Region_India', 'Region_Japan', 'Region_Other Europe', 'Region_Singapore', 'Region_Spain', 'Region_UK']\n"
          ]
        }
      ]
    },
    {
      "cell_type": "code",
      "source": [
        "random_seed = 1000\n",
        "df_train, df_test = train_test_split(df, test_size=0.2, random_state=random_seed, stratify=df['target'])\n",
        "\n",
        "\n",
        "print(df_train.shape)\n",
        "print(df_test.shape)\n",
        "print()\n",
        "print(df_train['target'].value_counts(normalize=True))\n",
        "print()\n",
        "print(df_test['target'].value_counts(normalize=True))"
      ],
      "metadata": {
        "colab": {
          "base_uri": "https://localhost:8080/"
        },
        "id": "_Cq7ly3HP5Q8",
        "outputId": "7ddb72db-d51c-40c6-a76d-68b9caaa0c45"
      },
      "execution_count": 6,
      "outputs": [
        {
          "output_type": "stream",
          "name": "stdout",
          "text": [
            "(800, 41)\n",
            "(200, 41)\n",
            "\n",
            "0    0.51875\n",
            "1    0.48125\n",
            "Name: target, dtype: float64\n",
            "\n",
            "0    0.52\n",
            "1    0.48\n",
            "Name: target, dtype: float64\n"
          ]
        }
      ]
    },
    {
      "cell_type": "code",
      "source": [
        "#Scaling the dataset \n",
        "scaler = StandardScaler()\n",
        "scaler.fit(df_train[numeric_cols])\n",
        "\n",
        "def get_features_and_target_arrays(df, numeric_cols, cat_cols, scaler):\n",
        "    X_numeric_scaled = scaler.transform(df[numeric_cols])\n",
        "    X_categorical = df[cat_cols].to_numpy()\n",
        "    X = np.hstack((X_categorical, X_numeric_scaled))\n",
        "    y = df['target']\n",
        "    return X, y\n",
        "\n",
        "X, y = get_features_and_target_arrays(df_train, numeric_cols, cat_cols, scaler)"
      ],
      "metadata": {
        "id": "kDUW7F8dP_51"
      },
      "execution_count": 7,
      "outputs": []
    },
    {
      "cell_type": "code",
      "source": [
        "#Fitting the model\n",
        "clf = LogisticRegression(penalty='none') # logistic regression with no penalty term in the cost function.\n",
        "\n",
        "clf.fit(X, y)"
      ],
      "metadata": {
        "colab": {
          "base_uri": "https://localhost:8080/"
        },
        "id": "soBiMUlqQRw4",
        "outputId": "9bf4dd10-2a8b-4991-b0df-3b12e1e0e13e"
      },
      "execution_count": 8,
      "outputs": [
        {
          "output_type": "stream",
          "name": "stderr",
          "text": [
            "/usr/local/lib/python3.8/dist-packages/sklearn/linear_model/_logistic.py:814: ConvergenceWarning: lbfgs failed to converge (status=1):\n",
            "STOP: TOTAL NO. of ITERATIONS REACHED LIMIT.\n",
            "\n",
            "Increase the number of iterations (max_iter) or scale the data as shown in:\n",
            "    https://scikit-learn.org/stable/modules/preprocessing.html\n",
            "Please also refer to the documentation for alternative solver options:\n",
            "    https://scikit-learn.org/stable/modules/linear_model.html#logistic-regression\n",
            "  n_iter_i = _check_optimize_result(\n"
          ]
        },
        {
          "output_type": "execute_result",
          "data": {
            "text/plain": [
              "LogisticRegression(penalty='none')"
            ]
          },
          "metadata": {},
          "execution_count": 8
        }
      ]
    },
    {
      "cell_type": "code",
      "source": [
        "X_test, y_test = get_features_and_target_arrays(df_test, numeric_cols, cat_cols, scaler)\n"
      ],
      "metadata": {
        "id": "VeRcqKehQane"
      },
      "execution_count": 9,
      "outputs": []
    },
    {
      "cell_type": "code",
      "source": [
        "from sklearn.metrics import roc_curve, roc_auc_score\n",
        "\n",
        "X_train, X_test, Y_train, Y_test = train_test_split(X, y, test_size=.25,\n",
        "                                                    random_state=0)\n",
        "r_probs = [0 for _ in range(len(Y_test))]\n",
        "r_fpr, r_tpr, _ = roc_curve(Y_test, r_probs)\n",
        "\n",
        "clf_probs =clf.predict_proba(X_test)\n",
        "clf_probs = clf_probs[:, 1]\n",
        "clf_fpr, clf_tpr, _ = roc_curve(Y_test, clf_probs)\n"
      ],
      "metadata": {
        "id": "rr1iOLiuFG0j"
      },
      "execution_count": 10,
      "outputs": []
    },
    {
      "cell_type": "code",
      "source": [
        "r_auc = roc_auc_score(Y_test, r_probs)\n",
        "clf_auc = roc_auc_score(Y_test, clf_probs)"
      ],
      "metadata": {
        "id": "WgwiPhJmFnUb"
      },
      "execution_count": 11,
      "outputs": []
    },
    {
      "cell_type": "code",
      "source": [
        "from sklearn.metrics import precision_recall_curve\n",
        "\n",
        "precision, recall, thresholds = precision_recall_curve(Y_test, clf_probs )\n",
        "\n",
        "gmeans = np.sqrt(clf_tpr * (1-clf_fpr))\n",
        "ix = np.argmax(gmeans)\n",
        "print('Best Threshold=%f, G-Mean=%.3f' % (thresholds[ix], gmeans[ix]))\n"
      ],
      "metadata": {
        "colab": {
          "base_uri": "https://localhost:8080/"
        },
        "id": "GLyLp0Oeh75r",
        "outputId": "402a125b-4c7c-4dd9-cdb7-bb5cc33e93f8"
      },
      "execution_count": 12,
      "outputs": [
        {
          "output_type": "stream",
          "name": "stdout",
          "text": [
            "Best Threshold=0.996271, G-Mean=0.990\n"
          ]
        }
      ]
    },
    {
      "cell_type": "code",
      "source": [
        "plot_roc_curve(clf, X_test, Y_test, label='Logistic Regression : AUC = %.4f'% (clf_auc))\n",
        "plt.plot(r_fpr, r_tpr, linestyle='--', label='Random prediction (AUC = %0.4f)' % r_auc)\n",
        "plt.plot(clf_fpr[ix], clf_tpr[ix], marker='o', color= 'black', label='Optimal thresold')\n",
        "plt.xlabel('False Positive Rate')\n",
        "plt.ylabel('True Positive Rate')\n",
        "plt.title('ROC Curve')\n",
        "plt.legend()\n"
      ],
      "metadata": {
        "colab": {
          "base_uri": "https://localhost:8080/",
          "height": 367
        },
        "id": "mWMJgb4zQgkS",
        "outputId": "7e3a2d32-c60b-4724-adba-ea5e7d602116"
      },
      "execution_count": null,
      "outputs": [
        {
          "output_type": "stream",
          "name": "stderr",
          "text": [
            "/usr/local/lib/python3.8/dist-packages/sklearn/utils/deprecation.py:87: FutureWarning: Function plot_roc_curve is deprecated; Function :func:`plot_roc_curve` is deprecated in 1.0 and will be removed in 1.2. Use one of the class methods: :meth:`sklearn.metric.RocCurveDisplay.from_predictions` or :meth:`sklearn.metric.RocCurveDisplay.from_estimator`.\n",
            "  warnings.warn(msg, category=FutureWarning)\n"
          ]
        },
        {
          "output_type": "execute_result",
          "data": {
            "text/plain": [
              "<matplotlib.legend.Legend at 0x7f63357ab370>"
            ]
          },
          "metadata": {},
          "execution_count": 182
        },
        {
          "output_type": "display_data",
          "data": {
            "text/plain": [
              "<Figure size 432x288 with 1 Axes>"
            ],
            "image/png": "[encoded data removed]"
          },
          "metadata": {
            "needs_background": "light"
          }
        }
      ]
    },
    {
      "cell_type": "code",
      "source": [
        "#Optimal thresold\n",
        "clf_fpr[ix], clf_tpr[ix]\n"
      ],
      "metadata": {
        "colab": {
          "base_uri": "https://localhost:8080/"
        },
        "id": "hKJuv01WkaAL",
        "outputId": "01430635-8bac-48a5-80ed-ed20d77264f1"
      },
      "execution_count": null,
      "outputs": [
        {
          "output_type": "execute_result",
          "data": {
            "text/plain": [
              "(0.01904761904761905, 1.0)"
            ]
          },
          "metadata": {},
          "execution_count": 183
        }
      ]
    },
    {
      "cell_type": "code",
      "source": [
        "plt.figure(figsize=(5, 7))\n",
        "\n",
        "plot_precision_recall_curve(clf, X_test, Y_test, label='AUC = %.4f'% (clf_auc))\n",
        "yhat = clf.predict_proba(X_test)\n",
        "yhat = yhat[:, 1]\n",
        "# calculate roc curves\n",
        "precision, recall, thresholds = precision_recall_curve(Y_test, yhat)\n",
        "# convert to f score\n",
        "fscore = (2 * precision * recall) / (precision + recall)\n",
        "# locate the index of the largest f score\n",
        "ix = np.argmax(fscore)\n",
        "print('Best Threshold=%f, F-Score=%.3f' % (thresholds[ix], fscore[ix]))\n",
        "plt.xlabel('Recall')\n",
        "plt.ylabel('Precision')\n",
        "#plot_precision_recall_curve(clf, X_test, Y_test, label='AUC = %.4f'% (clf_auc))\n",
        "plt.scatter(recall[ix], precision[ix], marker='o', color='black', label='Optimal Thresold')\n",
        "plt.legend(loc='lower left')\n",
        "\n"
      ],
      "metadata": {
        "colab": {
          "base_uri": "https://localhost:8080/",
          "height": 386
        },
        "id": "nf_-CHIJQnkU",
        "outputId": "84d98d0a-e411-4a20-dd43-b7247541feb5"
      },
      "execution_count": null,
      "outputs": [
        {
          "output_type": "stream",
          "name": "stdout",
          "text": [
            "Best Threshold=0.476145, F-Score=0.990\n"
          ]
        },
        {
          "output_type": "stream",
          "name": "stderr",
          "text": [
            "/usr/local/lib/python3.8/dist-packages/sklearn/utils/deprecation.py:87: FutureWarning: Function plot_precision_recall_curve is deprecated; Function `plot_precision_recall_curve` is deprecated in 1.0 and will be removed in 1.2. Use one of the class methods: PrecisionRecallDisplay.from_predictions or PrecisionRecallDisplay.from_estimator.\n",
            "  warnings.warn(msg, category=FutureWarning)\n"
          ]
        },
        {
          "output_type": "execute_result",
          "data": {
            "text/plain": [
              "<matplotlib.legend.Legend at 0x7f6335733850>"
            ]
          },
          "metadata": {},
          "execution_count": 184
        },
        {
          "output_type": "display_data",
          "data": {
            "text/plain": [
              "<Figure size 360x504 with 0 Axes>"
            ]
          },
          "metadata": {}
        },
        {
          "output_type": "display_data",
          "data": {
            "text/plain": [
              "<Figure size 432x288 with 1 Axes>"
            ],
            "image/png": "[encoded data removed]"
          },
          "metadata": {
            "needs_background": "light"
          }
        }
      ]
    },
    {
      "cell_type": "code",
      "source": [
        "test_prob = clf.predict_proba(X_test)[:, 1] # the second column is P(target = 1)\n",
        "test_pred = clf.predict(X_test)"
      ],
      "metadata": {
        "id": "q8-OG_XfybgS"
      },
      "execution_count": null,
      "outputs": []
    },
    {
      "cell_type": "code",
      "source": [
        "print('Log loss = {:.5f}'.format(log_loss(Y_test, test_prob)))\n",
        "print('AUC = {:.5f}'.format(roc_auc_score(Y_test, test_prob)))\n",
        "print('Average Precision = {:.012f}'.format(average_precision_score(Y_test, test_prob)))\n",
        "print('\\nUsing 0.019 as the Optimum threshold:')\n",
        "print('Accuracy = {:.019f}'.format(accuracy_score(Y_test, test_pred)))\n",
        "print('Precision = {:.019f}'.format(precision_score(Y_test, test_pred)))\n",
        "print('Recall = {:.019f}'.format(recall_score(Y_test, test_pred)))\n",
        "print('F1 score = {:.019f}'.format(f1_score(Y_test, test_pred)))\n",
        "\n",
        "\n"
      ],
      "metadata": {
        "colab": {
          "base_uri": "https://localhost:8080/"
        },
        "id": "nYp9WQvmy5sQ",
        "outputId": "038f71d4-64ea-4e6a-f88a-5037338f352d"
      },
      "execution_count": null,
      "outputs": [
        {
          "output_type": "stream",
          "name": "stdout",
          "text": [
            "Log loss = 0.02810\n",
            "AUC = 0.99950\n",
            "Average Precision = 0.999451682233\n",
            "\n",
            "Using 0.019 as the Optimum threshold:\n",
            "Accuracy = 0.9799999999999999822\n",
            "Precision = 0.9789473684210526772\n",
            "Recall = 0.9789473684210526772\n",
            "F1 score = 0.9789473684210526772\n"
          ]
        }
      ]
    },
    {
      "cell_type": "code",
      "source": [
        "print('Confusion Matrix')\n",
        "plot_confusion_matrix(clf, X_test, Y_test)"
      ],
      "metadata": {
        "colab": {
          "base_uri": "https://localhost:8080/",
          "height": 368
        },
        "id": "vG7rGaVw8zEi",
        "outputId": "fafdd8cc-6e05-4023-c762-1411ca8f8943"
      },
      "execution_count": null,
      "outputs": [
        {
          "output_type": "stream",
          "name": "stdout",
          "text": [
            "Confusion Matrix\n"
          ]
        },
        {
          "output_type": "stream",
          "name": "stderr",
          "text": [
            "/usr/local/lib/python3.8/dist-packages/sklearn/utils/deprecation.py:87: FutureWarning: Function plot_confusion_matrix is deprecated; Function `plot_confusion_matrix` is deprecated in 1.0 and will be removed in 1.2. Use one of the class methods: ConfusionMatrixDisplay.from_predictions or ConfusionMatrixDisplay.from_estimator.\n",
            "  warnings.warn(msg, category=FutureWarning)\n"
          ]
        },
        {
          "output_type": "execute_result",
          "data": {
            "text/plain": [
              "<sklearn.metrics._plot.confusion_matrix.ConfusionMatrixDisplay at 0x7f63357ef520>"
            ]
          },
          "metadata": {},
          "execution_count": 188
        },
        {
          "output_type": "display_data",
          "data": {
            "text/plain": [
              "<Figure size 432x288 with 2 Axes>"
            ],
            "image/png": "[encoded data removed]"
          },
          "metadata": {
            "needs_background": "light"
          }
        }
      ]
    },
    {
      "cell_type": "code",
      "source": [
        "pd.DataFrame(data={'variable': numeric_cols, 'unit': np.sqrt(scaler.var_)})\n"
      ],
      "metadata": {
        "colab": {
          "base_uri": "https://localhost:8080/",
          "height": 206
        },
        "id": "L1d_MJNA9BBc",
        "outputId": "6b18b145-f3a6-489b-ef65-cb80db4773f3"
      },
      "execution_count": null,
      "outputs": [
        {
          "output_type": "execute_result",
          "data": {
            "text/plain": [
              "                           variable       unit\n",
              "0  Relative Strength in the segment  10.128603\n",
              "1     Profit of Customer in Million   0.500133\n",
              "2            Sales Value in Million   1.970436\n",
              "3                          Profit %  10.278762\n",
              "4      WSES Proportion in Joint Bid  11.032336"
            ],
            "text/html": [
              "\n",
              "  <div id=\"df-b2e4f1c9-e2d4-4ce4-a174-d66e3e68a87a\">\n",
              "    <div class=\"colab-df-container\">\n",
              "      <div>\n",
              "<style scoped>\n",
              "    .dataframe tbody tr th:only-of-type {\n",
              "        vertical-align: middle;\n",
              "    }\n",
              "\n",
              "    .dataframe tbody tr th {\n",
              "        vertical-align: top;\n",
              "    }\n",
              "\n",
              "    .dataframe thead th {\n",
              "        text-align: right;\n",
              "    }\n",
              "</style>\n",
              "<table border=\"1\" class=\"dataframe\">\n",
              "  <thead>\n",
              "    <tr style=\"text-align: right;\">\n",
              "      <th></th>\n",
              "      <th>variable</th>\n",
              "      <th>unit</th>\n",
              "    </tr>\n",
              "  </thead>\n",
              "  <tbody>\n",
              "    <tr>\n",
              "      <th>0</th>\n",
              "      <td>Relative Strength in the segment</td>\n",
              "      <td>10.128603</td>\n",
              "    </tr>\n",
              "    <tr>\n",
              "      <th>1</th>\n",
              "      <td>Profit of Customer in Million</td>\n",
              "      <td>0.500133</td>\n",
              "    </tr>\n",
              "    <tr>\n",
              "      <th>2</th>\n",
              "      <td>Sales Value in Million</td>\n",
              "      <td>1.970436</td>\n",
              "    </tr>\n",
              "    <tr>\n",
              "      <th>3</th>\n",
              "      <td>Profit %</td>\n",
              "      <td>10.278762</td>\n",
              "    </tr>\n",
              "    <tr>\n",
              "      <th>4</th>\n",
              "      <td>WSES Proportion in Joint Bid</td>\n",
              "      <td>11.032336</td>\n",
              "    </tr>\n",
              "  </tbody>\n",
              "</table>\n",
              "</div>\n",
              "      <button class=\"colab-df-convert\" onclick=\"convertToInteractive('df-b2e4f1c9-e2d4-4ce4-a174-d66e3e68a87a')\"\n",
              "              title=\"Convert this dataframe to an interactive table.\"\n",
              "              style=\"display:none;\">\n",
              "        \n",
              "  <svg xmlns=\"http://www.w3.org/2000/svg\" height=\"24px\"viewBox=\"0 0 24 24\"\n",
              "       width=\"24px\">\n",
              "    <path d=\"M0 0h24v24H0V0z\" fill=\"none\"/>\n",
              "    <path d=\"M18.56 5.44l.94 2.06.94-2.06 2.06-.94-2.06-.94-.94-2.06-.94 2.06-2.06.94zm-11 1L8.5 8.5l.94-2.06 2.06-.94-2.06-.94L8.5 2.5l-.94 2.06-2.06.94zm10 10l.94 2.06.94-2.06 2.06-.94-2.06-.94-.94-2.06-.94 2.06-2.06.94z\"/><path d=\"M17.41 7.96l-1.37-1.37c-.4-.4-.92-.59-1.43-.59-.52 0-1.04.2-1.43.59L10.3 9.45l-7.72 7.72c-.78.78-.78 2.05 0 2.83L4 21.41c.39.39.9.59 1.41.59.51 0 1.02-.2 1.41-.59l7.78-7.78 2.81-2.81c.8-.78.8-2.07 0-2.86zM5.41 20L4 18.59l7.72-7.72 1.47 1.35L5.41 20z\"/>\n",
              "  </svg>\n",
              "      </button>\n",
              "      \n",
              "  <style>\n",
              "    .colab-df-container {\n",
              "      display:flex;\n",
              "      flex-wrap:wrap;\n",
              "      gap: 12px;\n",
              "    }\n",
              "\n",
              "    .colab-df-convert {\n",
              "      background-color: #E8F0FE;\n",
              "      border: none;\n",
              "      border-radius: 50%;\n",
              "      cursor: pointer;\n",
              "      display: none;\n",
              "      fill: #1967D2;\n",
              "      height: 32px;\n",
              "      padding: 0 0 0 0;\n",
              "      width: 32px;\n",
              "    }\n",
              "\n",
              "    .colab-df-convert:hover {\n",
              "      background-color: #E2EBFA;\n",
              "      box-shadow: 0px 1px 2px rgba(60, 64, 67, 0.3), 0px 1px 3px 1px rgba(60, 64, 67, 0.15);\n",
              "      fill: #174EA6;\n",
              "    }\n",
              "\n",
              "    [theme=dark] .colab-df-convert {\n",
              "      background-color: #3B4455;\n",
              "      fill: #D2E3FC;\n",
              "    }\n",
              "\n",
              "    [theme=dark] .colab-df-convert:hover {\n",
              "      background-color: #434B5C;\n",
              "      box-shadow: 0px 1px 3px 1px rgba(0, 0, 0, 0.15);\n",
              "      filter: drop-shadow(0px 1px 2px rgba(0, 0, 0, 0.3));\n",
              "      fill: #FFFFFF;\n",
              "    }\n",
              "  </style>\n",
              "\n",
              "      <script>\n",
              "        const buttonEl =\n",
              "          document.querySelector('#df-b2e4f1c9-e2d4-4ce4-a174-d66e3e68a87a button.colab-df-convert');\n",
              "        buttonEl.style.display =\n",
              "          google.colab.kernel.accessAllowed ? 'block' : 'none';\n",
              "\n",
              "        async function convertToInteractive(key) {\n",
              "          const element = document.querySelector('#df-b2e4f1c9-e2d4-4ce4-a174-d66e3e68a87a');\n",
              "          const dataTable =\n",
              "            await google.colab.kernel.invokeFunction('convertToInteractive',\n",
              "                                                     [key], {});\n",
              "          if (!dataTable) return;\n",
              "\n",
              "          const docLinkHtml = 'Like what you see? Visit the ' +\n",
              "            '<a target=\"_blank\" href=https://colab.research.google.com/notebooks/data_table.ipynb>data table notebook</a>'\n",
              "            + ' to learn more about interactive tables.';\n",
              "          element.innerHTML = '';\n",
              "          dataTable['output_type'] = 'display_data';\n",
              "          await google.colab.output.renderOutput(dataTable, element);\n",
              "          const docLink = document.createElement('div');\n",
              "          docLink.innerHTML = docLinkHtml;\n",
              "          element.appendChild(docLink);\n",
              "        }\n",
              "      </script>\n",
              "    </div>\n",
              "  </div>\n",
              "  "
            ]
          },
          "metadata": {},
          "execution_count": 189
        }
      ]
    },
    {
      "cell_type": "code",
      "source": [
        "from sklearn import metrics\n",
        "recall_sensitivity = metrics.recall_score(Y_test, test_pred, pos_label=1)\n",
        "recall_specificity = metrics.recall_score(Y_test, test_pred, pos_label=0)\n",
        "recall_sensitivity, recall_specificity "
      ],
      "metadata": {
        "colab": {
          "base_uri": "https://localhost:8080/"
        },
        "id": "I-iGvKwW0csn",
        "outputId": "af0e6f61-2290-4a02-957d-220a6be8501d"
      },
      "execution_count": null,
      "outputs": [
        {
          "output_type": "execute_result",
          "data": {
            "text/plain": [
              "(0.9789473684210527, 0.9809523809523809)"
            ]
          },
          "metadata": {},
          "execution_count": 190
        }
      ]
    },
    {
      "cell_type": "code",
      "source": [
        "idx=np.argsort(test_prob)\n",
        "idx=idx[::-1]\n",
        "idx"
      ],
      "metadata": {
        "colab": {
          "base_uri": "https://localhost:8080/"
        },
        "id": "CxN-sjPqB8Sy",
        "outputId": "625241e2-8cae-4f17-896d-62c2aedd3946"
      },
      "execution_count": null,
      "outputs": [
        {
          "output_type": "execute_result",
          "data": {
            "text/plain": [
              "array([ 76, 133,  52,  92,  55, 166,  60,  66,  67, 161, 129, 156,  77,\n",
              "        79,  51, 134, 150, 149,  94, 147,  82,  86, 144, 143, 136,  87,\n",
              "       103, 102,  49,  47,   3,   4,  12, 109, 191,  17, 188, 186,  26,\n",
              "        27,  40,  38, 104, 176, 105, 178,  89,  36, 100, 182, 160,  98,\n",
              "        80, 194, 107,  29, 121, 159,  58, 108,   0,  46, 151, 125, 171,\n",
              "        53, 126,  14, 137, 132,  72, 187, 113,  44, 192, 131, 193,  69,\n",
              "        78, 138, 106, 142, 110,  81,  99, 183, 165,  88,  63, 155,  62,\n",
              "       181,   2,  16, 172,  85,  75,   6, 154, 184,  61,  73, 123,   5,\n",
              "        83,  45, 173,  91, 196, 153,  56,  24,  15, 127, 158, 197,  65,\n",
              "       140,  25, 115,  39,  31,  42,  95, 185,  11, 168,  37, 169, 164,\n",
              "        48, 190,  64, 118, 157,   8, 146, 175, 128,  32, 120,  54,  10,\n",
              "        93,  68,  18, 122, 167, 116, 148,  23,  84,  41, 177,  22,  50,\n",
              "        90, 124,  19,  96,  97, 111,   7,  59, 199, 198, 130,  43,  57,\n",
              "         1,  34, 135, 170, 114,  70,  28, 117, 189,  30, 119, 179, 112,\n",
              "       195,  71, 174,  20, 145,  74, 101,  33,  21, 141, 163,   9, 162,\n",
              "        13, 152,  35, 180, 139])"
            ]
          },
          "metadata": {},
          "execution_count": 191
        }
      ]
    },
    {
      "cell_type": "code",
      "source": [
        "top_leads=int(0.5*len(idx))\n",
        "idx_top_leads=idx[:top_leads]\n",
        "idx_top_leads"
      ],
      "metadata": {
        "colab": {
          "base_uri": "https://localhost:8080/"
        },
        "id": "x7-KqX9QCVQi",
        "outputId": "035814dd-b1e8-45ff-e948-77797a546715"
      },
      "execution_count": null,
      "outputs": [
        {
          "output_type": "execute_result",
          "data": {
            "text/plain": [
              "array([ 76, 133,  52,  92,  55, 166,  60,  66,  67, 161, 129, 156,  77,\n",
              "        79,  51, 134, 150, 149,  94, 147,  82,  86, 144, 143, 136,  87,\n",
              "       103, 102,  49,  47,   3,   4,  12, 109, 191,  17, 188, 186,  26,\n",
              "        27,  40,  38, 104, 176, 105, 178,  89,  36, 100, 182, 160,  98,\n",
              "        80, 194, 107,  29, 121, 159,  58, 108,   0,  46, 151, 125, 171,\n",
              "        53, 126,  14, 137, 132,  72, 187, 113,  44, 192, 131, 193,  69,\n",
              "        78, 138, 106, 142, 110,  81,  99, 183, 165,  88,  63, 155,  62,\n",
              "       181,   2,  16, 172,  85,  75,   6, 154, 184])"
            ]
          },
          "metadata": {},
          "execution_count": 200
        }
      ]
    },
    {
      "cell_type": "code",
      "source": [
        "top_10_leads=int(0.05*len(idx))\n",
        "idx_top10_leads=idx[:top_10_leads]\n",
        "idx_top10_leads"
      ],
      "metadata": {
        "id": "qW_c0G4BDeY3",
        "outputId": "cd392eb0-dcd2-41c1-f547-d206a663d43c",
        "colab": {
          "base_uri": "https://localhost:8080/"
        }
      },
      "execution_count": null,
      "outputs": [
        {
          "output_type": "execute_result",
          "data": {
            "text/plain": [
              "array([ 76, 133,  52,  92,  55, 166,  60,  66,  67, 161])"
            ]
          },
          "metadata": {},
          "execution_count": 206
        }
      ]
    },
    {
      "cell_type": "code",
      "source": [
        "df_test.iloc[idx_top_leads]#for top10%ile leads\n",
        "\n",
        "#df_test.iloc[idx_top_leads].to_csv('file.csv') (In order to save to file)\n"
      ],
      "metadata": {
        "colab": {
          "base_uri": "https://localhost:8080/",
          "height": 557
        },
        "id": "AdOKvA0MCcoB",
        "outputId": "a743df7f-c408-4b65-8d5a-70d35191ca5a"
      },
      "execution_count": null,
      "outputs": [
        {
          "output_type": "execute_result",
          "data": {
            "text/plain": [
              "     Opportunity No.  target  Relative Strength in the segment  \\\n",
              "939              940       1                                49   \n",
              "521              522       1                                35   \n",
              "265              266       1                                38   \n",
              "480              481       0                                41   \n",
              "233              234       0                                42   \n",
              "..               ...     ...                               ...   \n",
              "327              328       1                                44   \n",
              "247              248       1                                45   \n",
              "363              364       1                                53   \n",
              "732              733       1                                27   \n",
              "284              285       1                                68   \n",
              "\n",
              "     Profit of Customer in Million  Sales Value in Million  Profit %  \\\n",
              "939                           0.37                    6.64        49   \n",
              "521                           1.22                    8.94        50   \n",
              "265                           0.43                    7.62        53   \n",
              "480                           1.84                    8.98        60   \n",
              "233                           1.48                    8.78        53   \n",
              "..                             ...                     ...       ...   \n",
              "327                           1.36                    6.69        35   \n",
              "247                           0.29                    7.31        41   \n",
              "363                           0.67                    5.13        45   \n",
              "732                           0.67                    4.53        67   \n",
              "284                           0.78                    8.49        44   \n",
              "\n",
              "     WSES Proportion in Joint Bid  Product_Finsys  Product_GTMSys  \\\n",
              "939                            52               0               1   \n",
              "521                            57               0               0   \n",
              "265                            65               0               1   \n",
              "480                            54               0               1   \n",
              "233                            58               0               0   \n",
              "..                            ...             ...             ...   \n",
              "327                            67               0               0   \n",
              "247                            62               0               0   \n",
              "363                            63               0               0   \n",
              "732                            68               0               0   \n",
              "284                           100               0               0   \n",
              "\n",
              "     Product_LearnSys  ...  Region_Canada  Region_India  Region_Japan  \\\n",
              "939                 0  ...              0             0             0   \n",
              "521                 0  ...              0             0             0   \n",
              "265                 0  ...              0             0             0   \n",
              "480                 0  ...              0             0             0   \n",
              "233                 1  ...              0             0             0   \n",
              "..                ...  ...            ...           ...           ...   \n",
              "327                 0  ...              0             1             0   \n",
              "247                 1  ...              0             0             0   \n",
              "363                 0  ...              0             0             0   \n",
              "732                 0  ...              0             0             0   \n",
              "284                 0  ...              0             0             0   \n",
              "\n",
              "     Region_Other Europe  Region_Singapore  Region_Spain  Region_UK  \\\n",
              "939                    0                 0             0          1   \n",
              "521                    0                 0             0          1   \n",
              "265                    0                 0             0          0   \n",
              "480                    1                 0             0          0   \n",
              "233                    0                 0             0          1   \n",
              "..                   ...               ...           ...        ...   \n",
              "327                    0                 0             0          0   \n",
              "247                    0                 0             0          0   \n",
              "363                    0                 0             0          1   \n",
              "732                    0                 0             0          1   \n",
              "284                    0                 0             0          0   \n",
              "\n",
              "     Leads Conversion Class_F  Leads Conversion Class_L  \\\n",
              "939                         0                         0   \n",
              "521                         0                         0   \n",
              "265                         0                         0   \n",
              "480                         0                         0   \n",
              "233                         0                         1   \n",
              "..                        ...                       ...   \n",
              "327                         0                         0   \n",
              "247                         0                         1   \n",
              "363                         0                         1   \n",
              "732                         0                         0   \n",
              "284                         0                         0   \n",
              "\n",
              "     Leads Conversion Class_V  \n",
              "939                         0  \n",
              "521                         1  \n",
              "265                         1  \n",
              "480                         1  \n",
              "233                         0  \n",
              "..                        ...  \n",
              "327                         0  \n",
              "247                         0  \n",
              "363                         0  \n",
              "732                         1  \n",
              "284                         1  \n",
              "\n",
              "[100 rows x 41 columns]"
            ],
            "text/html": [
              "\n",
              "  <div id=\"df-85e6ceb8-887e-4b9e-8ea0-d38c13e088ef\">\n",
              "    <div class=\"colab-df-container\">\n",
              "      <div>\n",
              "<style scoped>\n",
              "    .dataframe tbody tr th:only-of-type {\n",
              "        vertical-align: middle;\n",
              "    }\n",
              "\n",
              "    .dataframe tbody tr th {\n",
              "        vertical-align: top;\n",
              "    }\n",
              "\n",
              "    .dataframe thead th {\n",
              "        text-align: right;\n",
              "    }\n",
              "</style>\n",
              "<table border=\"1\" class=\"dataframe\">\n",
              "  <thead>\n",
              "    <tr style=\"text-align: right;\">\n",
              "      <th></th>\n",
              "      <th>Opportunity No.</th>\n",
              "      <th>target</th>\n",
              "      <th>Relative Strength in the segment</th>\n",
              "      <th>Profit of Customer in Million</th>\n",
              "      <th>Sales Value in Million</th>\n",
              "      <th>Profit %</th>\n",
              "      <th>WSES Proportion in Joint Bid</th>\n",
              "      <th>Product_Finsys</th>\n",
              "      <th>Product_GTMSys</th>\n",
              "      <th>Product_LearnSys</th>\n",
              "      <th>...</th>\n",
              "      <th>Region_Canada</th>\n",
              "      <th>Region_India</th>\n",
              "      <th>Region_Japan</th>\n",
              "      <th>Region_Other Europe</th>\n",
              "      <th>Region_Singapore</th>\n",
              "      <th>Region_Spain</th>\n",
              "      <th>Region_UK</th>\n",
              "      <th>Leads Conversion Class_F</th>\n",
              "      <th>Leads Conversion Class_L</th>\n",
              "      <th>Leads Conversion Class_V</th>\n",
              "    </tr>\n",
              "  </thead>\n",
              "  <tbody>\n",
              "    <tr>\n",
              "      <th>939</th>\n",
              "      <td>940</td>\n",
              "      <td>1</td>\n",
              "      <td>49</td>\n",
              "      <td>0.37</td>\n",
              "      <td>6.64</td>\n",
              "      <td>49</td>\n",
              "      <td>52</td>\n",
              "      <td>0</td>\n",
              "      <td>1</td>\n",
              "      <td>0</td>\n",
              "      <td>...</td>\n",
              "      <td>0</td>\n",
              "      <td>0</td>\n",
              "      <td>0</td>\n",
              "      <td>0</td>\n",
              "      <td>0</td>\n",
              "      <td>0</td>\n",
              "      <td>1</td>\n",
              "      <td>0</td>\n",
              "      <td>0</td>\n",
              "      <td>0</td>\n",
              "    </tr>\n",
              "    <tr>\n",
              "      <th>521</th>\n",
              "      <td>522</td>\n",
              "      <td>1</td>\n",
              "      <td>35</td>\n",
              "      <td>1.22</td>\n",
              "      <td>8.94</td>\n",
              "      <td>50</td>\n",
              "      <td>57</td>\n",
              "      <td>0</td>\n",
              "      <td>0</td>\n",
              "      <td>0</td>\n",
              "      <td>...</td>\n",
              "      <td>0</td>\n",
              "      <td>0</td>\n",
              "      <td>0</td>\n",
              "      <td>0</td>\n",
              "      <td>0</td>\n",
              "      <td>0</td>\n",
              "      <td>1</td>\n",
              "      <td>0</td>\n",
              "      <td>0</td>\n",
              "      <td>1</td>\n",
              "    </tr>\n",
              "    <tr>\n",
              "      <th>265</th>\n",
              "      <td>266</td>\n",
              "      <td>1</td>\n",
              "      <td>38</td>\n",
              "      <td>0.43</td>\n",
              "      <td>7.62</td>\n",
              "      <td>53</td>\n",
              "      <td>65</td>\n",
              "      <td>0</td>\n",
              "      <td>1</td>\n",
              "      <td>0</td>\n",
              "      <td>...</td>\n",
              "      <td>0</td>\n",
              "      <td>0</td>\n",
              "      <td>0</td>\n",
              "      <td>0</td>\n",
              "      <td>0</td>\n",
              "      <td>0</td>\n",
              "      <td>0</td>\n",
              "      <td>0</td>\n",
              "      <td>0</td>\n",
              "      <td>1</td>\n",
              "    </tr>\n",
              "    <tr>\n",
              "      <th>480</th>\n",
              "      <td>481</td>\n",
              "      <td>0</td>\n",
              "      <td>41</td>\n",
              "      <td>1.84</td>\n",
              "      <td>8.98</td>\n",
              "      <td>60</td>\n",
              "      <td>54</td>\n",
              "      <td>0</td>\n",
              "      <td>1</td>\n",
              "      <td>0</td>\n",
              "      <td>...</td>\n",
              "      <td>0</td>\n",
              "      <td>0</td>\n",
              "      <td>0</td>\n",
              "      <td>1</td>\n",
              "      <td>0</td>\n",
              "      <td>0</td>\n",
              "      <td>0</td>\n",
              "      <td>0</td>\n",
              "      <td>0</td>\n",
              "      <td>1</td>\n",
              "    </tr>\n",
              "    <tr>\n",
              "      <th>233</th>\n",
              "      <td>234</td>\n",
              "      <td>0</td>\n",
              "      <td>42</td>\n",
              "      <td>1.48</td>\n",
              "      <td>8.78</td>\n",
              "      <td>53</td>\n",
              "      <td>58</td>\n",
              "      <td>0</td>\n",
              "      <td>0</td>\n",
              "      <td>1</td>\n",
              "      <td>...</td>\n",
              "      <td>0</td>\n",
              "      <td>0</td>\n",
              "      <td>0</td>\n",
              "      <td>0</td>\n",
              "      <td>0</td>\n",
              "      <td>0</td>\n",
              "      <td>1</td>\n",
              "      <td>0</td>\n",
              "      <td>1</td>\n",
              "      <td>0</td>\n",
              "    </tr>\n",
              "    <tr>\n",
              "      <th>...</th>\n",
              "      <td>...</td>\n",
              "      <td>...</td>\n",
              "      <td>...</td>\n",
              "      <td>...</td>\n",
              "      <td>...</td>\n",
              "      <td>...</td>\n",
              "      <td>...</td>\n",
              "      <td>...</td>\n",
              "      <td>...</td>\n",
              "      <td>...</td>\n",
              "      <td>...</td>\n",
              "      <td>...</td>\n",
              "      <td>...</td>\n",
              "      <td>...</td>\n",
              "      <td>...</td>\n",
              "      <td>...</td>\n",
              "      <td>...</td>\n",
              "      <td>...</td>\n",
              "      <td>...</td>\n",
              "      <td>...</td>\n",
              "      <td>...</td>\n",
              "    </tr>\n",
              "    <tr>\n",
              "      <th>327</th>\n",
              "      <td>328</td>\n",
              "      <td>1</td>\n",
              "      <td>44</td>\n",
              "      <td>1.36</td>\n",
              "      <td>6.69</td>\n",
              "      <td>35</td>\n",
              "      <td>67</td>\n",
              "      <td>0</td>\n",
              "      <td>0</td>\n",
              "      <td>0</td>\n",
              "      <td>...</td>\n",
              "      <td>0</td>\n",
              "      <td>1</td>\n",
              "      <td>0</td>\n",
              "      <td>0</td>\n",
              "      <td>0</td>\n",
              "      <td>0</td>\n",
              "      <td>0</td>\n",
              "      <td>0</td>\n",
              "      <td>0</td>\n",
              "      <td>0</td>\n",
              "    </tr>\n",
              "    <tr>\n",
              "      <th>247</th>\n",
              "      <td>248</td>\n",
              "      <td>1</td>\n",
              "      <td>45</td>\n",
              "      <td>0.29</td>\n",
              "      <td>7.31</td>\n",
              "      <td>41</td>\n",
              "      <td>62</td>\n",
              "      <td>0</td>\n",
              "      <td>0</td>\n",
              "      <td>1</td>\n",
              "      <td>...</td>\n",
              "      <td>0</td>\n",
              "      <td>0</td>\n",
              "      <td>0</td>\n",
              "      <td>0</td>\n",
              "      <td>0</td>\n",
              "      <td>0</td>\n",
              "      <td>0</td>\n",
              "      <td>0</td>\n",
              "      <td>1</td>\n",
              "      <td>0</td>\n",
              "    </tr>\n",
              "    <tr>\n",
              "      <th>363</th>\n",
              "      <td>364</td>\n",
              "      <td>1</td>\n",
              "      <td>53</td>\n",
              "      <td>0.67</td>\n",
              "      <td>5.13</td>\n",
              "      <td>45</td>\n",
              "      <td>63</td>\n",
              "      <td>0</td>\n",
              "      <td>0</td>\n",
              "      <td>0</td>\n",
              "      <td>...</td>\n",
              "      <td>0</td>\n",
              "      <td>0</td>\n",
              "      <td>0</td>\n",
              "      <td>0</td>\n",
              "      <td>0</td>\n",
              "      <td>0</td>\n",
              "      <td>1</td>\n",
              "      <td>0</td>\n",
              "      <td>1</td>\n",
              "      <td>0</td>\n",
              "    </tr>\n",
              "    <tr>\n",
              "      <th>732</th>\n",
              "      <td>733</td>\n",
              "      <td>1</td>\n",
              "      <td>27</td>\n",
              "      <td>0.67</td>\n",
              "      <td>4.53</td>\n",
              "      <td>67</td>\n",
              "      <td>68</td>\n",
              "      <td>0</td>\n",
              "      <td>0</td>\n",
              "      <td>0</td>\n",
              "      <td>...</td>\n",
              "      <td>0</td>\n",
              "      <td>0</td>\n",
              "      <td>0</td>\n",
              "      <td>0</td>\n",
              "      <td>0</td>\n",
              "      <td>0</td>\n",
              "      <td>1</td>\n",
              "      <td>0</td>\n",
              "      <td>0</td>\n",
              "      <td>1</td>\n",
              "    </tr>\n",
              "    <tr>\n",
              "      <th>284</th>\n",
              "      <td>285</td>\n",
              "      <td>1</td>\n",
              "      <td>68</td>\n",
              "      <td>0.78</td>\n",
              "      <td>8.49</td>\n",
              "      <td>44</td>\n",
              "      <td>100</td>\n",
              "      <td>0</td>\n",
              "      <td>0</td>\n",
              "      <td>0</td>\n",
              "      <td>...</td>\n",
              "      <td>0</td>\n",
              "      <td>0</td>\n",
              "      <td>0</td>\n",
              "      <td>0</td>\n",
              "      <td>0</td>\n",
              "      <td>0</td>\n",
              "      <td>0</td>\n",
              "      <td>0</td>\n",
              "      <td>0</td>\n",
              "      <td>1</td>\n",
              "    </tr>\n",
              "  </tbody>\n",
              "</table>\n",
              "<p>100 rows × 41 columns</p>\n",
              "</div>\n",
              "      <button class=\"colab-df-convert\" onclick=\"convertToInteractive('df-85e6ceb8-887e-4b9e-8ea0-d38c13e088ef')\"\n",
              "              title=\"Convert this dataframe to an interactive table.\"\n",
              "              style=\"display:none;\">\n",
              "        \n",
              "  <svg xmlns=\"http://www.w3.org/2000/svg\" height=\"24px\"viewBox=\"0 0 24 24\"\n",
              "       width=\"24px\">\n",
              "    <path d=\"M0 0h24v24H0V0z\" fill=\"none\"/>\n",
              "    <path d=\"M18.56 5.44l.94 2.06.94-2.06 2.06-.94-2.06-.94-.94-2.06-.94 2.06-2.06.94zm-11 1L8.5 8.5l.94-2.06 2.06-.94-2.06-.94L8.5 2.5l-.94 2.06-2.06.94zm10 10l.94 2.06.94-2.06 2.06-.94-2.06-.94-.94-2.06-.94 2.06-2.06.94z\"/><path d=\"M17.41 7.96l-1.37-1.37c-.4-.4-.92-.59-1.43-.59-.52 0-1.04.2-1.43.59L10.3 9.45l-7.72 7.72c-.78.78-.78 2.05 0 2.83L4 21.41c.39.39.9.59 1.41.59.51 0 1.02-.2 1.41-.59l7.78-7.78 2.81-2.81c.8-.78.8-2.07 0-2.86zM5.41 20L4 18.59l7.72-7.72 1.47 1.35L5.41 20z\"/>\n",
              "  </svg>\n",
              "      </button>\n",
              "      \n",
              "  <style>\n",
              "    .colab-df-container {\n",
              "      display:flex;\n",
              "      flex-wrap:wrap;\n",
              "      gap: 12px;\n",
              "    }\n",
              "\n",
              "    .colab-df-convert {\n",
              "      background-color: #E8F0FE;\n",
              "      border: none;\n",
              "      border-radius: 50%;\n",
              "      cursor: pointer;\n",
              "      display: none;\n",
              "      fill: #1967D2;\n",
              "      height: 32px;\n",
              "      padding: 0 0 0 0;\n",
              "      width: 32px;\n",
              "    }\n",
              "\n",
              "    .colab-df-convert:hover {\n",
              "      background-color: #E2EBFA;\n",
              "      box-shadow: 0px 1px 2px rgba(60, 64, 67, 0.3), 0px 1px 3px 1px rgba(60, 64, 67, 0.15);\n",
              "      fill: #174EA6;\n",
              "    }\n",
              "\n",
              "    [theme=dark] .colab-df-convert {\n",
              "      background-color: #3B4455;\n",
              "      fill: #D2E3FC;\n",
              "    }\n",
              "\n",
              "    [theme=dark] .colab-df-convert:hover {\n",
              "      background-color: #434B5C;\n",
              "      box-shadow: 0px 1px 3px 1px rgba(0, 0, 0, 0.15);\n",
              "      filter: drop-shadow(0px 1px 2px rgba(0, 0, 0, 0.3));\n",
              "      fill: #FFFFFF;\n",
              "    }\n",
              "  </style>\n",
              "\n",
              "      <script>\n",
              "        const buttonEl =\n",
              "          document.querySelector('#df-85e6ceb8-887e-4b9e-8ea0-d38c13e088ef button.colab-df-convert');\n",
              "        buttonEl.style.display =\n",
              "          google.colab.kernel.accessAllowed ? 'block' : 'none';\n",
              "\n",
              "        async function convertToInteractive(key) {\n",
              "          const element = document.querySelector('#df-85e6ceb8-887e-4b9e-8ea0-d38c13e088ef');\n",
              "          const dataTable =\n",
              "            await google.colab.kernel.invokeFunction('convertToInteractive',\n",
              "                                                     [key], {});\n",
              "          if (!dataTable) return;\n",
              "\n",
              "          const docLinkHtml = 'Like what you see? Visit the ' +\n",
              "            '<a target=\"_blank\" href=https://colab.research.google.com/notebooks/data_table.ipynb>data table notebook</a>'\n",
              "            + ' to learn more about interactive tables.';\n",
              "          element.innerHTML = '';\n",
              "          dataTable['output_type'] = 'display_data';\n",
              "          await google.colab.output.renderOutput(dataTable, element);\n",
              "          const docLink = document.createElement('div');\n",
              "          docLink.innerHTML = docLinkHtml;\n",
              "          element.appendChild(docLink);\n",
              "        }\n",
              "      </script>\n",
              "    </div>\n",
              "  </div>\n",
              "  "
            ]
          },
          "metadata": {},
          "execution_count": 207
        }
      ]
    },
    {
      "cell_type": "code",
      "source": [
        "df_test.iloc[idx_top10_leads]#for top10 leads\n",
        "df_test.iloc[idx_top10_leads].to_csv('10.csv')"
      ],
      "metadata": {
        "id": "RWF_Zr5eDq6D"
      },
      "execution_count": null,
      "outputs": []
    },
    {
      "cell_type": "code",
      "source": [
        "from sklearn.model_selection import KFold, cross_val_score\n",
        "k_folds = KFold(n_splits = 5)\n",
        "scores = cross_val_score(clf, X, y, cv = k_folds)\n",
        "\n"
      ],
      "metadata": {
        "id": "X62l_bduD4qu",
        "outputId": "fe03c878-3081-40e9-f057-44cc58040cca",
        "colab": {
          "base_uri": "https://localhost:8080/"
        }
      },
      "execution_count": null,
      "outputs": [
        {
          "output_type": "stream",
          "name": "stderr",
          "text": [
            "/usr/local/lib/python3.8/dist-packages/sklearn/linear_model/_logistic.py:814: ConvergenceWarning: lbfgs failed to converge (status=1):\n",
            "STOP: TOTAL NO. of ITERATIONS REACHED LIMIT.\n",
            "\n",
            "Increase the number of iterations (max_iter) or scale the data as shown in:\n",
            "    https://scikit-learn.org/stable/modules/preprocessing.html\n",
            "Please also refer to the documentation for alternative solver options:\n",
            "    https://scikit-learn.org/stable/modules/linear_model.html#logistic-regression\n",
            "  n_iter_i = _check_optimize_result(\n",
            "/usr/local/lib/python3.8/dist-packages/sklearn/linear_model/_logistic.py:814: ConvergenceWarning: lbfgs failed to converge (status=1):\n",
            "STOP: TOTAL NO. of ITERATIONS REACHED LIMIT.\n",
            "\n",
            "Increase the number of iterations (max_iter) or scale the data as shown in:\n",
            "    https://scikit-learn.org/stable/modules/preprocessing.html\n",
            "Please also refer to the documentation for alternative solver options:\n",
            "    https://scikit-learn.org/stable/modules/linear_model.html#logistic-regression\n",
            "  n_iter_i = _check_optimize_result(\n",
            "/usr/local/lib/python3.8/dist-packages/sklearn/linear_model/_logistic.py:814: ConvergenceWarning: lbfgs failed to converge (status=1):\n",
            "STOP: TOTAL NO. of ITERATIONS REACHED LIMIT.\n",
            "\n",
            "Increase the number of iterations (max_iter) or scale the data as shown in:\n",
            "    https://scikit-learn.org/stable/modules/preprocessing.html\n",
            "Please also refer to the documentation for alternative solver options:\n",
            "    https://scikit-learn.org/stable/modules/linear_model.html#logistic-regression\n",
            "  n_iter_i = _check_optimize_result(\n",
            "/usr/local/lib/python3.8/dist-packages/sklearn/linear_model/_logistic.py:814: ConvergenceWarning: lbfgs failed to converge (status=1):\n",
            "STOP: TOTAL NO. of ITERATIONS REACHED LIMIT.\n",
            "\n",
            "Increase the number of iterations (max_iter) or scale the data as shown in:\n",
            "    https://scikit-learn.org/stable/modules/preprocessing.html\n",
            "Please also refer to the documentation for alternative solver options:\n",
            "    https://scikit-learn.org/stable/modules/linear_model.html#logistic-regression\n",
            "  n_iter_i = _check_optimize_result(\n",
            "/usr/local/lib/python3.8/dist-packages/sklearn/linear_model/_logistic.py:814: ConvergenceWarning: lbfgs failed to converge (status=1):\n",
            "STOP: TOTAL NO. of ITERATIONS REACHED LIMIT.\n",
            "\n",
            "Increase the number of iterations (max_iter) or scale the data as shown in:\n",
            "    https://scikit-learn.org/stable/modules/preprocessing.html\n",
            "Please also refer to the documentation for alternative solver options:\n",
            "    https://scikit-learn.org/stable/modules/linear_model.html#logistic-regression\n",
            "  n_iter_i = _check_optimize_result(\n"
          ]
        }
      ]
    },
    {
      "cell_type": "code",
      "source": [
        "scores\n",
        "print(\"Cross Validation Scores are {}\".format(scores))\n",
        "print(\"Average Cross Validation score :{}\".format(scores.mean()))"
      ],
      "metadata": {
        "id": "moIUnWhLFIl3",
        "outputId": "63b9cac4-08f5-4887-c16d-78ecb872d125",
        "colab": {
          "base_uri": "https://localhost:8080/"
        }
      },
      "execution_count": null,
      "outputs": [
        {
          "output_type": "stream",
          "name": "stdout",
          "text": [
            "Cross Validation Scores are [0.9625  0.95625 0.96875 0.975   0.96875]\n",
            "Average Cross Validation score :0.9662500000000002\n"
          ]
        }
      ]
    },
    {
      "cell_type": "code",
      "source": [],
      "metadata": {
        "id": "vPmxoTZX3XGS"
      },
      "execution_count": null,
      "outputs": []
    }
  ]
}