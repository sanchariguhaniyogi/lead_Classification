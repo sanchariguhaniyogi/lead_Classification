{
  "nbformat": 4,
  "nbformat_minor": 0,
  "metadata": {
    "colab": {
      "provenance": [],
      "collapsed_sections": [],
      "authorship_tag": "ABX9TyMEXzrjpO7o8GQLmqpv6ytL",
      "include_colab_link": true
    },
    "kernelspec": {
      "name": "python3",
      "display_name": "Python 3"
    },
    "language_info": {
      "name": "python"
    }
  },
  "cells": [
    {
      "cell_type": "markdown",
      "metadata": {
        "id": "view-in-github",
        "colab_type": "text"
      },
      "source": [
        "<a href=\"https://colab.research.google.com/github/sanchariguhaniyogi/lead_Classification/blob/main/KNN.ipynb\" target=\"_parent\"><img src=\"https://colab.research.google.com/assets/colab-badge.svg\" alt=\"Open In Colab\"/></a>"
      ]
    },
    {
      "cell_type": "code",
      "execution_count": 1,
      "metadata": {
        "id": "Mz64x0ngybyl"
      },
      "outputs": [],
      "source": [
        "import pandas as pd\n",
        "import numpy as np\n",
        "from sklearn.preprocessing import StandardScaler\n",
        "from sklearn.model_selection import train_test_split\n",
        "from sklearn.metrics import log_loss, roc_auc_score, recall_score, precision_score, average_precision_score, f1_score, classification_report, accuracy_score, plot_roc_curve, plot_precision_recall_curve, plot_confusion_matrix"
      ]
    },
    {
      "cell_type": "code",
      "source": [
        "df = pd.read_csv('lead_conv.csv', na_values='?')\n",
        "#df.head()\n",
        "df.columns\n"
      ],
      "metadata": {
        "colab": {
          "base_uri": "https://localhost:8080/"
        },
        "id": "o5Eul38qz8hK",
        "outputId": "a11c95a1-38ef-436c-a20d-245ecade7a3d"
      },
      "execution_count": 2,
      "outputs": [
        {
          "output_type": "execute_result",
          "data": {
            "text/plain": [
              "Index(['Opportunity No.', 'Outcome', 'Product', 'Industry', 'Region',\n",
              "       'Relative Strength in the segment', 'Profit of Customer in Million',\n",
              "       'Sales Value in Million', 'Profit %', 'WSES Proportion in Joint Bid',\n",
              "       'Leads Conversion Class'],\n",
              "      dtype='object')"
            ]
          },
          "metadata": {},
          "execution_count": 2
        }
      ]
    },
    {
      "cell_type": "code",
      "source": [
        "df = df.rename(columns={'Outcome': 'target'})\n",
        "\n",
        "df['target'].value_counts(dropna=False)"
      ],
      "metadata": {
        "colab": {
          "base_uri": "https://localhost:8080/"
        },
        "id": "6KJ-ls9s0L2F",
        "outputId": "cc4757c3-fd84-4067-f842-08b894168c81"
      },
      "execution_count": 3,
      "outputs": [
        {
          "output_type": "execute_result",
          "data": {
            "text/plain": [
              "0    519\n",
              "1    481\n",
              "Name: target, dtype: int64"
            ]
          },
          "metadata": {},
          "execution_count": 3
        }
      ]
    },
    {
      "cell_type": "code",
      "source": [
        "df = pd.get_dummies(df, columns=['Product', 'Industry', 'Region', 'Leads Conversion Class'], drop_first=True)\n",
        "df"
      ],
      "metadata": {
        "colab": {
          "base_uri": "https://localhost:8080/",
          "height": 557
        },
        "id": "NVQRDfs10O2I",
        "outputId": "9b44578d-8fb9-49fc-c965-4751d2850197"
      },
      "execution_count": 4,
      "outputs": [
        {
          "output_type": "execute_result",
          "data": {
            "text/plain": [
              "     Opportunity No.  target  Relative Strength in the segment  \\\n",
              "0                  1       0                                45   \n",
              "1                  2       1                                56   \n",
              "2                  3       0                                48   \n",
              "3                  4       1                                58   \n",
              "4                  5       1                                49   \n",
              "..               ...     ...                               ...   \n",
              "995              996       1                                46   \n",
              "996              997       0                                67   \n",
              "997              998       0                                42   \n",
              "998              999       1                                32   \n",
              "999             1000       1                                45   \n",
              "\n",
              "     Profit of Customer in Million  Sales Value in Million  Profit %  \\\n",
              "0                             2.11                   10.29        29   \n",
              "1                             0.79                   11.42        46   \n",
              "2                             1.62                    5.63        70   \n",
              "3                             0.09                   10.17        46   \n",
              "4                             1.46                   10.60        32   \n",
              "..                             ...                     ...       ...   \n",
              "995                           0.71                    3.97        42   \n",
              "996                           1.43                    9.31        33   \n",
              "997                           1.75                    8.18        58   \n",
              "998                           0.30                    9.78        56   \n",
              "999                           0.63                    5.97        62   \n",
              "\n",
              "     WSES Proportion in Joint Bid  Product_Finsys  Product_GTMSys  \\\n",
              "0                              66               0               0   \n",
              "1                              50               0               1   \n",
              "2                              50               0               1   \n",
              "3                              56               0               1   \n",
              "4                              54               0               1   \n",
              "..                            ...             ...             ...   \n",
              "995                            72               0               0   \n",
              "996                            65               0               1   \n",
              "997                            68               0               0   \n",
              "998                            55               0               1   \n",
              "999                            45               0               0   \n",
              "\n",
              "     Product_LearnSys  ...  Region_Canada  Region_India  Region_Japan  \\\n",
              "0                   1  ...              0             0             0   \n",
              "1                   0  ...              0             0             0   \n",
              "2                   0  ...              0             0             0   \n",
              "3                   0  ...              0             0             0   \n",
              "4                   0  ...              0             0             0   \n",
              "..                ...  ...            ...           ...           ...   \n",
              "995                 0  ...              0             0             0   \n",
              "996                 0  ...              0             0             0   \n",
              "997                 1  ...              0             0             0   \n",
              "998                 0  ...              0             0             0   \n",
              "999                 1  ...              0             0             0   \n",
              "\n",
              "     Region_Other Europe  Region_Singapore  Region_Spain  Region_UK  \\\n",
              "0                      0                 0             0          0   \n",
              "1                      0                 0             0          1   \n",
              "2                      0                 0             0          1   \n",
              "3                      0                 0             0          1   \n",
              "4                      0                 0             0          1   \n",
              "..                   ...               ...           ...        ...   \n",
              "995                    0                 0             0          1   \n",
              "996                    0                 0             0          1   \n",
              "997                    0                 0             0          1   \n",
              "998                    0                 0             0          1   \n",
              "999                    0                 0             0          0   \n",
              "\n",
              "     Leads Conversion Class_F  Leads Conversion Class_L  \\\n",
              "0                           1                         0   \n",
              "1                           0                         0   \n",
              "2                           1                         0   \n",
              "3                           0                         0   \n",
              "4                           0                         0   \n",
              "..                        ...                       ...   \n",
              "995                         0                         0   \n",
              "996                         0                         1   \n",
              "997                         0                         0   \n",
              "998                         0                         0   \n",
              "999                         0                         0   \n",
              "\n",
              "     Leads Conversion Class_V  \n",
              "0                           0  \n",
              "1                           0  \n",
              "2                           0  \n",
              "3                           0  \n",
              "4                           1  \n",
              "..                        ...  \n",
              "995                         0  \n",
              "996                         0  \n",
              "997                         0  \n",
              "998                         0  \n",
              "999                         1  \n",
              "\n",
              "[1000 rows x 41 columns]"
            ],
            "text/html": [
              "\n",
              "  <div id=\"df-edfd44db-fcde-4bb1-b1e2-90645e297d8c\">\n",
              "    <div class=\"colab-df-container\">\n",
              "      <div>\n",
              "<style scoped>\n",
              "    .dataframe tbody tr th:only-of-type {\n",
              "        vertical-align: middle;\n",
              "    }\n",
              "\n",
              "    .dataframe tbody tr th {\n",
              "        vertical-align: top;\n",
              "    }\n",
              "\n",
              "    .dataframe thead th {\n",
              "        text-align: right;\n",
              "    }\n",
              "</style>\n",
              "<table border=\"1\" class=\"dataframe\">\n",
              "  <thead>\n",
              "    <tr style=\"text-align: right;\">\n",
              "      <th></th>\n",
              "      <th>Opportunity No.</th>\n",
              "      <th>target</th>\n",
              "      <th>Relative Strength in the segment</th>\n",
              "      <th>Profit of Customer in Million</th>\n",
              "      <th>Sales Value in Million</th>\n",
              "      <th>Profit %</th>\n",
              "      <th>WSES Proportion in Joint Bid</th>\n",
              "      <th>Product_Finsys</th>\n",
              "      <th>Product_GTMSys</th>\n",
              "      <th>Product_LearnSys</th>\n",
              "      <th>...</th>\n",
              "      <th>Region_Canada</th>\n",
              "      <th>Region_India</th>\n",
              "      <th>Region_Japan</th>\n",
              "      <th>Region_Other Europe</th>\n",
              "      <th>Region_Singapore</th>\n",
              "      <th>Region_Spain</th>\n",
              "      <th>Region_UK</th>\n",
              "      <th>Leads Conversion Class_F</th>\n",
              "      <th>Leads Conversion Class_L</th>\n",
              "      <th>Leads Conversion Class_V</th>\n",
              "    </tr>\n",
              "  </thead>\n",
              "  <tbody>\n",
              "    <tr>\n",
              "      <th>0</th>\n",
              "      <td>1</td>\n",
              "      <td>0</td>\n",
              "      <td>45</td>\n",
              "      <td>2.11</td>\n",
              "      <td>10.29</td>\n",
              "      <td>29</td>\n",
              "      <td>66</td>\n",
              "      <td>0</td>\n",
              "      <td>0</td>\n",
              "      <td>1</td>\n",
              "      <td>...</td>\n",
              "      <td>0</td>\n",
              "      <td>0</td>\n",
              "      <td>0</td>\n",
              "      <td>0</td>\n",
              "      <td>0</td>\n",
              "      <td>0</td>\n",
              "      <td>0</td>\n",
              "      <td>1</td>\n",
              "      <td>0</td>\n",
              "      <td>0</td>\n",
              "    </tr>\n",
              "    <tr>\n",
              "      <th>1</th>\n",
              "      <td>2</td>\n",
              "      <td>1</td>\n",
              "      <td>56</td>\n",
              "      <td>0.79</td>\n",
              "      <td>11.42</td>\n",
              "      <td>46</td>\n",
              "      <td>50</td>\n",
              "      <td>0</td>\n",
              "      <td>1</td>\n",
              "      <td>0</td>\n",
              "      <td>...</td>\n",
              "      <td>0</td>\n",
              "      <td>0</td>\n",
              "      <td>0</td>\n",
              "      <td>0</td>\n",
              "      <td>0</td>\n",
              "      <td>0</td>\n",
              "      <td>1</td>\n",
              "      <td>0</td>\n",
              "      <td>0</td>\n",
              "      <td>0</td>\n",
              "    </tr>\n",
              "    <tr>\n",
              "      <th>2</th>\n",
              "      <td>3</td>\n",
              "      <td>0</td>\n",
              "      <td>48</td>\n",
              "      <td>1.62</td>\n",
              "      <td>5.63</td>\n",
              "      <td>70</td>\n",
              "      <td>50</td>\n",
              "      <td>0</td>\n",
              "      <td>1</td>\n",
              "      <td>0</td>\n",
              "      <td>...</td>\n",
              "      <td>0</td>\n",
              "      <td>0</td>\n",
              "      <td>0</td>\n",
              "      <td>0</td>\n",
              "      <td>0</td>\n",
              "      <td>0</td>\n",
              "      <td>1</td>\n",
              "      <td>1</td>\n",
              "      <td>0</td>\n",
              "      <td>0</td>\n",
              "    </tr>\n",
              "    <tr>\n",
              "      <th>3</th>\n",
              "      <td>4</td>\n",
              "      <td>1</td>\n",
              "      <td>58</td>\n",
              "      <td>0.09</td>\n",
              "      <td>10.17</td>\n",
              "      <td>46</td>\n",
              "      <td>56</td>\n",
              "      <td>0</td>\n",
              "      <td>1</td>\n",
              "      <td>0</td>\n",
              "      <td>...</td>\n",
              "      <td>0</td>\n",
              "      <td>0</td>\n",
              "      <td>0</td>\n",
              "      <td>0</td>\n",
              "      <td>0</td>\n",
              "      <td>0</td>\n",
              "      <td>1</td>\n",
              "      <td>0</td>\n",
              "      <td>0</td>\n",
              "      <td>0</td>\n",
              "    </tr>\n",
              "    <tr>\n",
              "      <th>4</th>\n",
              "      <td>5</td>\n",
              "      <td>1</td>\n",
              "      <td>49</td>\n",
              "      <td>1.46</td>\n",
              "      <td>10.60</td>\n",
              "      <td>32</td>\n",
              "      <td>54</td>\n",
              "      <td>0</td>\n",
              "      <td>1</td>\n",
              "      <td>0</td>\n",
              "      <td>...</td>\n",
              "      <td>0</td>\n",
              "      <td>0</td>\n",
              "      <td>0</td>\n",
              "      <td>0</td>\n",
              "      <td>0</td>\n",
              "      <td>0</td>\n",
              "      <td>1</td>\n",
              "      <td>0</td>\n",
              "      <td>0</td>\n",
              "      <td>1</td>\n",
              "    </tr>\n",
              "    <tr>\n",
              "      <th>...</th>\n",
              "      <td>...</td>\n",
              "      <td>...</td>\n",
              "      <td>...</td>\n",
              "      <td>...</td>\n",
              "      <td>...</td>\n",
              "      <td>...</td>\n",
              "      <td>...</td>\n",
              "      <td>...</td>\n",
              "      <td>...</td>\n",
              "      <td>...</td>\n",
              "      <td>...</td>\n",
              "      <td>...</td>\n",
              "      <td>...</td>\n",
              "      <td>...</td>\n",
              "      <td>...</td>\n",
              "      <td>...</td>\n",
              "      <td>...</td>\n",
              "      <td>...</td>\n",
              "      <td>...</td>\n",
              "      <td>...</td>\n",
              "      <td>...</td>\n",
              "    </tr>\n",
              "    <tr>\n",
              "      <th>995</th>\n",
              "      <td>996</td>\n",
              "      <td>1</td>\n",
              "      <td>46</td>\n",
              "      <td>0.71</td>\n",
              "      <td>3.97</td>\n",
              "      <td>42</td>\n",
              "      <td>72</td>\n",
              "      <td>0</td>\n",
              "      <td>0</td>\n",
              "      <td>0</td>\n",
              "      <td>...</td>\n",
              "      <td>0</td>\n",
              "      <td>0</td>\n",
              "      <td>0</td>\n",
              "      <td>0</td>\n",
              "      <td>0</td>\n",
              "      <td>0</td>\n",
              "      <td>1</td>\n",
              "      <td>0</td>\n",
              "      <td>0</td>\n",
              "      <td>0</td>\n",
              "    </tr>\n",
              "    <tr>\n",
              "      <th>996</th>\n",
              "      <td>997</td>\n",
              "      <td>0</td>\n",
              "      <td>67</td>\n",
              "      <td>1.43</td>\n",
              "      <td>9.31</td>\n",
              "      <td>33</td>\n",
              "      <td>65</td>\n",
              "      <td>0</td>\n",
              "      <td>1</td>\n",
              "      <td>0</td>\n",
              "      <td>...</td>\n",
              "      <td>0</td>\n",
              "      <td>0</td>\n",
              "      <td>0</td>\n",
              "      <td>0</td>\n",
              "      <td>0</td>\n",
              "      <td>0</td>\n",
              "      <td>1</td>\n",
              "      <td>0</td>\n",
              "      <td>1</td>\n",
              "      <td>0</td>\n",
              "    </tr>\n",
              "    <tr>\n",
              "      <th>997</th>\n",
              "      <td>998</td>\n",
              "      <td>0</td>\n",
              "      <td>42</td>\n",
              "      <td>1.75</td>\n",
              "      <td>8.18</td>\n",
              "      <td>58</td>\n",
              "      <td>68</td>\n",
              "      <td>0</td>\n",
              "      <td>0</td>\n",
              "      <td>1</td>\n",
              "      <td>...</td>\n",
              "      <td>0</td>\n",
              "      <td>0</td>\n",
              "      <td>0</td>\n",
              "      <td>0</td>\n",
              "      <td>0</td>\n",
              "      <td>0</td>\n",
              "      <td>1</td>\n",
              "      <td>0</td>\n",
              "      <td>0</td>\n",
              "      <td>0</td>\n",
              "    </tr>\n",
              "    <tr>\n",
              "      <th>998</th>\n",
              "      <td>999</td>\n",
              "      <td>1</td>\n",
              "      <td>32</td>\n",
              "      <td>0.30</td>\n",
              "      <td>9.78</td>\n",
              "      <td>56</td>\n",
              "      <td>55</td>\n",
              "      <td>0</td>\n",
              "      <td>1</td>\n",
              "      <td>0</td>\n",
              "      <td>...</td>\n",
              "      <td>0</td>\n",
              "      <td>0</td>\n",
              "      <td>0</td>\n",
              "      <td>0</td>\n",
              "      <td>0</td>\n",
              "      <td>0</td>\n",
              "      <td>1</td>\n",
              "      <td>0</td>\n",
              "      <td>0</td>\n",
              "      <td>0</td>\n",
              "    </tr>\n",
              "    <tr>\n",
              "      <th>999</th>\n",
              "      <td>1000</td>\n",
              "      <td>1</td>\n",
              "      <td>45</td>\n",
              "      <td>0.63</td>\n",
              "      <td>5.97</td>\n",
              "      <td>62</td>\n",
              "      <td>45</td>\n",
              "      <td>0</td>\n",
              "      <td>0</td>\n",
              "      <td>1</td>\n",
              "      <td>...</td>\n",
              "      <td>0</td>\n",
              "      <td>0</td>\n",
              "      <td>0</td>\n",
              "      <td>0</td>\n",
              "      <td>0</td>\n",
              "      <td>0</td>\n",
              "      <td>0</td>\n",
              "      <td>0</td>\n",
              "      <td>0</td>\n",
              "      <td>1</td>\n",
              "    </tr>\n",
              "  </tbody>\n",
              "</table>\n",
              "<p>1000 rows × 41 columns</p>\n",
              "</div>\n",
              "      <button class=\"colab-df-convert\" onclick=\"convertToInteractive('df-edfd44db-fcde-4bb1-b1e2-90645e297d8c')\"\n",
              "              title=\"Convert this dataframe to an interactive table.\"\n",
              "              style=\"display:none;\">\n",
              "        \n",
              "  <svg xmlns=\"http://www.w3.org/2000/svg\" height=\"24px\"viewBox=\"0 0 24 24\"\n",
              "       width=\"24px\">\n",
              "    <path d=\"M0 0h24v24H0V0z\" fill=\"none\"/>\n",
              "    <path d=\"M18.56 5.44l.94 2.06.94-2.06 2.06-.94-2.06-.94-.94-2.06-.94 2.06-2.06.94zm-11 1L8.5 8.5l.94-2.06 2.06-.94-2.06-.94L8.5 2.5l-.94 2.06-2.06.94zm10 10l.94 2.06.94-2.06 2.06-.94-2.06-.94-.94-2.06-.94 2.06-2.06.94z\"/><path d=\"M17.41 7.96l-1.37-1.37c-.4-.4-.92-.59-1.43-.59-.52 0-1.04.2-1.43.59L10.3 9.45l-7.72 7.72c-.78.78-.78 2.05 0 2.83L4 21.41c.39.39.9.59 1.41.59.51 0 1.02-.2 1.41-.59l7.78-7.78 2.81-2.81c.8-.78.8-2.07 0-2.86zM5.41 20L4 18.59l7.72-7.72 1.47 1.35L5.41 20z\"/>\n",
              "  </svg>\n",
              "      </button>\n",
              "      \n",
              "  <style>\n",
              "    .colab-df-container {\n",
              "      display:flex;\n",
              "      flex-wrap:wrap;\n",
              "      gap: 12px;\n",
              "    }\n",
              "\n",
              "    .colab-df-convert {\n",
              "      background-color: #E8F0FE;\n",
              "      border: none;\n",
              "      border-radius: 50%;\n",
              "      cursor: pointer;\n",
              "      display: none;\n",
              "      fill: #1967D2;\n",
              "      height: 32px;\n",
              "      padding: 0 0 0 0;\n",
              "      width: 32px;\n",
              "    }\n",
              "\n",
              "    .colab-df-convert:hover {\n",
              "      background-color: #E2EBFA;\n",
              "      box-shadow: 0px 1px 2px rgba(60, 64, 67, 0.3), 0px 1px 3px 1px rgba(60, 64, 67, 0.15);\n",
              "      fill: #174EA6;\n",
              "    }\n",
              "\n",
              "    [theme=dark] .colab-df-convert {\n",
              "      background-color: #3B4455;\n",
              "      fill: #D2E3FC;\n",
              "    }\n",
              "\n",
              "    [theme=dark] .colab-df-convert:hover {\n",
              "      background-color: #434B5C;\n",
              "      box-shadow: 0px 1px 3px 1px rgba(0, 0, 0, 0.15);\n",
              "      filter: drop-shadow(0px 1px 2px rgba(0, 0, 0, 0.3));\n",
              "      fill: #FFFFFF;\n",
              "    }\n",
              "  </style>\n",
              "\n",
              "      <script>\n",
              "        const buttonEl =\n",
              "          document.querySelector('#df-edfd44db-fcde-4bb1-b1e2-90645e297d8c button.colab-df-convert');\n",
              "        buttonEl.style.display =\n",
              "          google.colab.kernel.accessAllowed ? 'block' : 'none';\n",
              "\n",
              "        async function convertToInteractive(key) {\n",
              "          const element = document.querySelector('#df-edfd44db-fcde-4bb1-b1e2-90645e297d8c');\n",
              "          const dataTable =\n",
              "            await google.colab.kernel.invokeFunction('convertToInteractive',\n",
              "                                                     [key], {});\n",
              "          if (!dataTable) return;\n",
              "\n",
              "          const docLinkHtml = 'Like what you see? Visit the ' +\n",
              "            '<a target=\"_blank\" href=https://colab.research.google.com/notebooks/data_table.ipynb>data table notebook</a>'\n",
              "            + ' to learn more about interactive tables.';\n",
              "          element.innerHTML = '';\n",
              "          dataTable['output_type'] = 'display_data';\n",
              "          await google.colab.output.renderOutput(dataTable, element);\n",
              "          const docLink = document.createElement('div');\n",
              "          docLink.innerHTML = docLinkHtml;\n",
              "          element.appendChild(docLink);\n",
              "        }\n",
              "      </script>\n",
              "    </div>\n",
              "  </div>\n",
              "  "
            ]
          },
          "metadata": {},
          "execution_count": 4
        }
      ]
    },
    {
      "cell_type": "code",
      "source": [
        "numeric_cols = ['Relative Strength in the segment', 'Profit of Customer in Million',\n",
        "       'Sales Value in Million', 'Profit %', 'WSES Proportion in Joint Bid',]\n",
        "cat_cols = list(set(df.columns) - set(numeric_cols) - {'target'}) #categorical columns\n",
        "cat_cols.sort()\n",
        "\n",
        "print(numeric_cols)\n",
        "print(cat_cols)"
      ],
      "metadata": {
        "colab": {
          "base_uri": "https://localhost:8080/"
        },
        "id": "Gv1iRFoE0TxY",
        "outputId": "fd5e6e10-fb9f-4b36-82f2-f25bbe8eec3d"
      },
      "execution_count": 5,
      "outputs": [
        {
          "output_type": "stream",
          "name": "stdout",
          "text": [
            "['Relative Strength in the segment', 'Profit of Customer in Million', 'Sales Value in Million', 'Profit %', 'WSES Proportion in Joint Bid']\n",
            "['Industry_Airline', 'Industry_Banks', 'Industry_Capital Markets', 'Industry_Clinical research', 'Industry_Consumer goods', 'Industry_Defense', 'Industry_Energy', 'Industry_Finance', 'Industry_Govt.', 'Industry_Health', 'Industry_Infrastructure', 'Industry_Insurance', 'Industry_Mobility', 'Industry_Other Govt.', 'Industry_Others', 'Industry_Security', 'Industry_Telecom equipments', 'Leads Conversion Class_F', 'Leads Conversion Class_L', 'Leads Conversion Class_V', 'Opportunity No.', 'Product_Finsys', 'Product_GTMSys', 'Product_LearnSys', 'Product_Lifesys', 'Product_Logissys', 'Product_Procsys', 'Region_Americas', 'Region_Canada', 'Region_India', 'Region_Japan', 'Region_Other Europe', 'Region_Singapore', 'Region_Spain', 'Region_UK']\n"
          ]
        }
      ]
    },
    {
      "cell_type": "code",
      "source": [
        "random_seed = 1000\n",
        "df_train, df_test = train_test_split(df, test_size=0.2, random_state=random_seed, stratify=df['target'])\n"
      ],
      "metadata": {
        "id": "RMd1cbyI0XLM"
      },
      "execution_count": 6,
      "outputs": []
    },
    {
      "cell_type": "code",
      "source": [
        "#Scaling the dataset \n",
        "scaler = StandardScaler()\n",
        "scaler.fit(df_train[numeric_cols])\n",
        "\n",
        "def get_features_and_target_arrays(df, numeric_cols, cat_cols, scaler):\n",
        "    X_numeric_scaled = scaler.transform(df[numeric_cols])\n",
        "    X_categorical = df[cat_cols].to_numpy()\n",
        "    X = np.hstack((X_categorical, X_numeric_scaled))\n",
        "    y = df['target']\n",
        "    return X, y\n",
        "\n",
        "X, y = get_features_and_target_arrays(df_train, numeric_cols, cat_cols, scaler)"
      ],
      "metadata": {
        "id": "v_9-19OY0b9N"
      },
      "execution_count": 7,
      "outputs": []
    },
    {
      "cell_type": "code",
      "source": [
        "from sklearn.neighbors import KNeighborsClassifier  \n",
        "clf= KNeighborsClassifier(n_neighbors=5, metric='minkowski', p=2 )  \n",
        "clf.fit(X, y)  "
      ],
      "metadata": {
        "colab": {
          "base_uri": "https://localhost:8080/"
        },
        "id": "GwqluUUk0i-I",
        "outputId": "856ed17f-0931-41c4-b767-3f81adb54087"
      },
      "execution_count": 8,
      "outputs": [
        {
          "output_type": "execute_result",
          "data": {
            "text/plain": [
              "KNeighborsClassifier()"
            ]
          },
          "metadata": {},
          "execution_count": 8
        }
      ]
    },
    {
      "cell_type": "code",
      "source": [
        "X_train, X_test, y_train, y_test = train_test_split(X, y, test_size = 0.25, random_state = 22)\n"
      ],
      "metadata": {
        "id": "w3hPSFp_9_ME"
      },
      "execution_count": 9,
      "outputs": []
    },
    {
      "cell_type": "code",
      "source": [
        "models = []\n",
        "scores = []\n",
        "clf.fit(X_train, y_train)\n",
        "models.append(clf)\n",
        "scores.append(accuracy_score(y_true = y_test, y_pred = clf.predict(X_test)))\n",
        "\n"
      ],
      "metadata": {
        "id": "OhKmBALD0p0o"
      },
      "execution_count": 10,
      "outputs": []
    },
    {
      "cell_type": "code",
      "source": [
        "X_test, y_test = get_features_and_target_arrays(df_test, numeric_cols, cat_cols, scaler)\n"
      ],
      "metadata": {
        "id": "nx6c2Hcr0z0q"
      },
      "execution_count": 11,
      "outputs": []
    },
    {
      "cell_type": "code",
      "source": [
        "plot_roc_curve(clf, X_test, y_test)\n"
      ],
      "metadata": {
        "colab": {
          "base_uri": "https://localhost:8080/",
          "height": 351
        },
        "id": "AW5LhTnv1MMY",
        "outputId": "cc7fb4f3-3eb0-4a3c-f893-514a39c50edc"
      },
      "execution_count": 12,
      "outputs": [
        {
          "output_type": "stream",
          "name": "stderr",
          "text": [
            "/usr/local/lib/python3.7/dist-packages/sklearn/utils/deprecation.py:87: FutureWarning: Function plot_roc_curve is deprecated; Function :func:`plot_roc_curve` is deprecated in 1.0 and will be removed in 1.2. Use one of the class methods: :meth:`sklearn.metric.RocCurveDisplay.from_predictions` or :meth:`sklearn.metric.RocCurveDisplay.from_estimator`.\n",
            "  warnings.warn(msg, category=FutureWarning)\n"
          ]
        },
        {
          "output_type": "execute_result",
          "data": {
            "text/plain": [
              "<sklearn.metrics._plot.roc_curve.RocCurveDisplay at 0x7fd6b2636d10>"
            ]
          },
          "metadata": {},
          "execution_count": 12
        },
        {
          "output_type": "display_data",
          "data": {
            "text/plain": [
              "<Figure size 432x288 with 1 Axes>"
            ],
            "image/png": "[encoded data removed]"
          },
          "metadata": {
            "needs_background": "light"
          }
        }
      ]
    },
    {
      "cell_type": "code",
      "source": [
        "plot_precision_recall_curve(clf, X_test, y_test)\n"
      ],
      "metadata": {
        "colab": {
          "base_uri": "https://localhost:8080/",
          "height": 351
        },
        "id": "sJANurNo1U9w",
        "outputId": "9214c142-31b8-4da4-86a8-259f0b4a1fcd"
      },
      "execution_count": 13,
      "outputs": [
        {
          "output_type": "stream",
          "name": "stderr",
          "text": [
            "/usr/local/lib/python3.7/dist-packages/sklearn/utils/deprecation.py:87: FutureWarning: Function plot_precision_recall_curve is deprecated; Function `plot_precision_recall_curve` is deprecated in 1.0 and will be removed in 1.2. Use one of the class methods: PrecisionRecallDisplay.from_predictions or PrecisionRecallDisplay.from_estimator.\n",
            "  warnings.warn(msg, category=FutureWarning)\n"
          ]
        },
        {
          "output_type": "execute_result",
          "data": {
            "text/plain": [
              "<sklearn.metrics._plot.precision_recall_curve.PrecisionRecallDisplay at 0x7fd6afd0fd90>"
            ]
          },
          "metadata": {},
          "execution_count": 13
        },
        {
          "output_type": "display_data",
          "data": {
            "text/plain": [
              "<Figure size 432x288 with 1 Axes>"
            ],
            "image/png": "[encoded data removed]"
          },
          "metadata": {
            "needs_background": "light"
          }
        }
      ]
    },
    {
      "cell_type": "code",
      "source": [
        "test_prob = clf.predict_proba(X_test)[:, 1] # the second column is P(target = 1)\n",
        "test_pred = clf.predict(X_test)"
      ],
      "metadata": {
        "id": "cEOMS1_b1bXc"
      },
      "execution_count": 14,
      "outputs": []
    },
    {
      "cell_type": "code",
      "source": [
        "print('Log loss = {:.5f}'.format(log_loss(y_test, test_prob)))\n",
        "print('AUC = {:.5f}'.format(roc_auc_score(y_test, test_prob)))\n",
        "print('Average Precision = {:.5f}'.format(average_precision_score(y_test, test_prob)))\n",
        "print('\\nUsing 0.5 as threshold:')\n",
        "print('Accuracy = {:.5f}'.format(accuracy_score(y_test, test_pred)))\n",
        "print('Precision = {:.5f}'.format(precision_score(y_test, test_pred)))\n",
        "print('Recall = {:.5f}'.format(recall_score(y_test, test_pred)))\n",
        "print('F1 score = {:.5f}'.format(f1_score(y_test, test_pred)))\n",
        "\n",
        "\n"
      ],
      "metadata": {
        "colab": {
          "base_uri": "https://localhost:8080/"
        },
        "id": "fJDh6gWx1f07",
        "outputId": "013b6e86-30a5-4a25-832a-b2776036784d"
      },
      "execution_count": 15,
      "outputs": [
        {
          "output_type": "stream",
          "name": "stdout",
          "text": [
            "Log loss = 2.27416\n",
            "AUC = 0.49064\n",
            "Average Precision = 0.47026\n",
            "\n",
            "Using 0.5 as threshold:\n",
            "Accuracy = 0.51000\n",
            "Precision = 0.49000\n",
            "Recall = 0.51042\n",
            "F1 score = 0.50000\n"
          ]
        }
      ]
    },
    {
      "cell_type": "code",
      "source": [
        "print('Confusion Matrix')\n",
        "plot_confusion_matrix(clf, X_test, y_test)"
      ],
      "metadata": {
        "colab": {
          "base_uri": "https://localhost:8080/",
          "height": 372
        },
        "id": "63LvXKR6-FXD",
        "outputId": "5b1b4433-baf7-4ece-e7c2-44f564af713b"
      },
      "execution_count": 16,
      "outputs": [
        {
          "output_type": "stream",
          "name": "stdout",
          "text": [
            "Confusion Matrix\n"
          ]
        },
        {
          "output_type": "stream",
          "name": "stderr",
          "text": [
            "/usr/local/lib/python3.7/dist-packages/sklearn/utils/deprecation.py:87: FutureWarning: Function plot_confusion_matrix is deprecated; Function `plot_confusion_matrix` is deprecated in 1.0 and will be removed in 1.2. Use one of the class methods: ConfusionMatrixDisplay.from_predictions or ConfusionMatrixDisplay.from_estimator.\n",
            "  warnings.warn(msg, category=FutureWarning)\n"
          ]
        },
        {
          "output_type": "execute_result",
          "data": {
            "text/plain": [
              "<sklearn.metrics._plot.confusion_matrix.ConfusionMatrixDisplay at 0x7fd6af89bd50>"
            ]
          },
          "metadata": {},
          "execution_count": 16
        },
        {
          "output_type": "display_data",
          "data": {
            "text/plain": [
              "<Figure size 432x288 with 2 Axes>"
            ],
            "image/png": "[encoded data removed]"
          },
          "metadata": {
            "needs_background": "light"
          }
        }
      ]
    },
    {
      "cell_type": "code",
      "source": [
        "from sklearn import metrics\n",
        "recall_sensitivity = metrics.recall_score(y_test, test_pred, pos_label=1)\n",
        "recall_specificity = metrics.recall_score(y_test, test_pred, pos_label=0)\n",
        "recall_sensitivity, recall_specificity "
      ],
      "metadata": {
        "colab": {
          "base_uri": "https://localhost:8080/"
        },
        "id": "liGd_3q9-OUZ",
        "outputId": "c86235bf-821d-4e8d-e52c-f28d8b5f1574"
      },
      "execution_count": 17,
      "outputs": [
        {
          "output_type": "execute_result",
          "data": {
            "text/plain": [
              "(0.5104166666666666, 0.5096153846153846)"
            ]
          },
          "metadata": {},
          "execution_count": 17
        }
      ]
    },
    {
      "cell_type": "code",
      "source": [
        "from sklearn.model_selection import KFold, cross_val_score\n",
        "k_folds = KFold(n_splits = 5)\n",
        "scores = cross_val_score(clf, X, y, cv = k_folds)\n",
        "\n"
      ],
      "metadata": {
        "id": "RGAoc0SNEsw5"
      },
      "execution_count": 18,
      "outputs": []
    },
    {
      "cell_type": "code",
      "source": [
        "scores\n",
        "print(\"Cross Validation Scores are {}\".format(scores))\n",
        "print(\"Average Cross Validation score :{}\".format(scores.mean()))"
      ],
      "metadata": {
        "id": "JDOLu6KNEpyM",
        "outputId": "63a2292d-e381-4c4e-c196-ea40ef4bbf61",
        "colab": {
          "base_uri": "https://localhost:8080/"
        }
      },
      "execution_count": 19,
      "outputs": [
        {
          "output_type": "stream",
          "name": "stdout",
          "text": [
            "Cross Validation Scores are [0.53125 0.49375 0.53125 0.5625  0.54375]\n",
            "Average Cross Validation score :0.5325\n"
          ]
        }
      ]
    },
    {
      "cell_type": "code",
      "source": [],
      "metadata": {
        "id": "DTWSn2tSEv7r"
      },
      "execution_count": null,
      "outputs": []
    }
  ]
}